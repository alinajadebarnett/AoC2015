{
  "nbformat": 4,
  "nbformat_minor": 0,
  "metadata": {
    "colab": {
      "name": "day20.ipynb",
      "provenance": []
    },
    "kernelspec": {
      "name": "python3",
      "display_name": "Python 3"
    }
  },
  "cells": [
    {
      "cell_type": "markdown",
      "metadata": {
        "id": "WUQ9tXBunBvw"
      },
      "source": [
        "https://adventofcode.com/2015/day/20"
      ]
    },
    {
      "cell_type": "code",
      "metadata": {
        "id": "YSiJpy99m7mg"
      },
      "source": [
        "input = 36000000"
      ],
      "execution_count": null,
      "outputs": []
    },
    {
      "cell_type": "code",
      "metadata": {
        "colab": {
          "base_uri": "https://localhost:8080/"
        },
        "id": "ZuyzE_vnoBO0",
        "outputId": "84a3a286-666f-40dd-ee85-5a780c18609f"
      },
      "source": [
        "input // 2 // 3 // 2 // 3 // 5 // 2 // 5 // 2 // 5 // 2 // 5 // 2 // 5 // 2 // 5 // 2"
      ],
      "execution_count": null,
      "outputs": [
        {
          "output_type": "execute_result",
          "data": {
            "text/plain": [
              "1"
            ]
          },
          "metadata": {
            "tags": []
          },
          "execution_count": 60
        }
      ]
    },
    {
      "cell_type": "code",
      "metadata": {
        "colab": {
          "base_uri": "https://localhost:8080/"
        },
        "id": "fnIOcf22oaZq",
        "outputId": "c0a500a4-f3bd-407b-bc50-752ca254f27c"
      },
      "source": [
        "import numpy as np\n",
        "\n",
        "prime_factors = [2,3,2,3,5,2,5,2,5,2,5,2,5,2,5,2]\n",
        "np.asarray(prime_factors).prod() == input"
      ],
      "execution_count": null,
      "outputs": [
        {
          "output_type": "execute_result",
          "data": {
            "text/plain": [
              "True"
            ]
          },
          "metadata": {
            "tags": []
          },
          "execution_count": 61
        }
      ]
    },
    {
      "cell_type": "code",
      "metadata": {
        "id": "3wEKbAejt4OA"
      },
      "source": [
        "def dict_to_list(dic):\n",
        "  l = []\n",
        "  for k, v in dic.items():\n",
        "    for i in range(v):\n",
        "      l.append(k)\n",
        "  return l"
      ],
      "execution_count": null,
      "outputs": []
    },
    {
      "cell_type": "code",
      "metadata": {
        "colab": {
          "base_uri": "https://localhost:8080/"
        },
        "id": "nBzuNQnno5mM",
        "outputId": "e973802b-b7fb-466d-a676-072f17ad4bcb"
      },
      "source": [
        "from itertools import *\n",
        "from sympy.ntheory import factorint\n",
        "\n",
        "def num_presents(h_num):\n",
        "  factors = factorint(h_num)\n",
        "  factors = dict_to_list(factors)\n",
        "  combs = set()\n",
        "  for i in range(1, len(factors)+1):\n",
        "    combs = combs | set(combinations(factors, i))\n",
        "  elves = []\n",
        "  for item in combs:\n",
        "    elf = np.asarray(item).prod()\n",
        "    elves.append(elf)\n",
        "  presents = np.asarray(elves).sum() * 10 + 10\n",
        "  return int(presents)\n",
        "\n",
        "for i in range(1, 10):\n",
        "  print(i, \" : \", num_presents(i))"
      ],
      "execution_count": null,
      "outputs": [
        {
          "output_type": "stream",
          "text": [
            "1  :  10\n",
            "2  :  30\n",
            "3  :  40\n",
            "4  :  70\n",
            "5  :  60\n",
            "6  :  120\n",
            "7  :  80\n",
            "8  :  150\n",
            "9  :  130\n"
          ],
          "name": "stdout"
        }
      ]
    },
    {
      "cell_type": "code",
      "metadata": {
        "colab": {
          "base_uri": "https://localhost:8080/"
        },
        "id": "OXPcy7awxDLF",
        "outputId": "6a9e59fc-5cd8-4c08-acd1-39155df8e54e"
      },
      "source": [
        "from tqdm import tqdm\n",
        "\n",
        "x = np.inf\n",
        "for i in tqdm(range(3600000), position=0, leave=True):\n",
        "  if num_presents(i) >= input:\n",
        "    x = i\n",
        "    print(i, num_presents(i))\n",
        "    break\n",
        "\n",
        "print(x)"
      ],
      "execution_count": null,
      "outputs": [
        {
          "output_type": "stream",
          "text": [
            " 23%|██▎       | 831001/3600000 [01:17<04:48, 9592.73it/s]"
          ],
          "name": "stderr"
        },
        {
          "output_type": "stream",
          "text": [
            "831600 36902400\n",
            "831600\n"
          ],
          "name": "stdout"
        }
      ]
    },
    {
      "cell_type": "code",
      "metadata": {
        "colab": {
          "base_uri": "https://localhost:8080/"
        },
        "id": "XHOS-6LTyVhW",
        "outputId": "de64331e-fbe3-4e85-efd1-3dc1a0219b3a"
      },
      "source": [
        "num_presents(831600)"
      ],
      "execution_count": null,
      "outputs": [
        {
          "output_type": "execute_result",
          "data": {
            "text/plain": [
              "36902400"
            ]
          },
          "metadata": {
            "tags": []
          },
          "execution_count": 66
        }
      ]
    },
    {
      "cell_type": "code",
      "metadata": {
        "id": "YAJl9_PeyiM9"
      },
      "source": [
        "def num_presents2(h_num):\n",
        "  factors = factorint(h_num)\n",
        "  factors = dict_to_list(factors)\n",
        "  combs = set()\n",
        "  for i in range(0, len(factors)+1):\n",
        "    combs = combs | set(combinations(factors, i))\n",
        "  elves = []\n",
        "  for item in combs:\n",
        "    elf = np.asarray(item).prod()\n",
        "    if h_num // elf <= 50:\n",
        "      elves.append(elf)\n",
        "  presents = np.asarray(elves).sum() * 11\n",
        "  return int(presents)"
      ],
      "execution_count": null,
      "outputs": []
    },
    {
      "cell_type": "code",
      "metadata": {
        "id": "uDyqISEfy9Yo"
      },
      "source": [
        "for i in range(1, 60):\n",
        "  print(i, \" : \", num_presents(i))\n",
        "  print(i, \" : \", num_presents2(i))"
      ],
      "execution_count": null,
      "outputs": []
    },
    {
      "cell_type": "code",
      "metadata": {
        "colab": {
          "base_uri": "https://localhost:8080/"
        },
        "id": "dA5_K4-_zlUH",
        "outputId": "d29dc739-ab4a-4a24-d917-fc68eb9db44d"
      },
      "source": [
        "for i in tqdm(range(3600000), position=0, leave=True):\n",
        "  if num_presents2(i) >= input:\n",
        "    x = i\n",
        "    print(i, num_presents2(i))\n",
        "    break\n",
        "\n",
        "print(x)"
      ],
      "execution_count": null,
      "outputs": [
        {
          "output_type": "stream",
          "text": [
            "  0%|          | 0/3600000 [00:00<?, ?it/s]/usr/local/lib/python3.6/dist-packages/ipykernel_launcher.py:10: RuntimeWarning: divide by zero encountered in long_scalars\n",
            "  # Remove the CWD from sys.path while we load stuff.\n",
            " 25%|██▍       | 883873/3600000 [01:34<05:13, 8662.01it/s]"
          ],
          "name": "stderr"
        },
        {
          "output_type": "stream",
          "text": [
            "884520 36191925\n",
            "884520\n"
          ],
          "name": "stdout"
        }
      ]
    },
    {
      "cell_type": "code",
      "metadata": {
        "colab": {
          "base_uri": "https://localhost:8080/"
        },
        "id": "q7NLqh7lz231",
        "outputId": "e2b9f9c1-bd95-4531-a74e-a36b2b823646"
      },
      "source": [
        "num_presents2(884520)"
      ],
      "execution_count": null,
      "outputs": [
        {
          "output_type": "execute_result",
          "data": {
            "text/plain": [
              "36191925"
            ]
          },
          "metadata": {
            "tags": []
          },
          "execution_count": 77
        }
      ]
    }
  ]
}