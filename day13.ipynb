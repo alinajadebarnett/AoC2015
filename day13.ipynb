{
  "nbformat": 4,
  "nbformat_minor": 0,
  "metadata": {
    "colab": {
      "name": "day13.ipynb",
      "provenance": [],
      "collapsed_sections": []
    },
    "kernelspec": {
      "name": "python3",
      "display_name": "Python 3"
    }
  },
  "cells": [
    {
      "cell_type": "markdown",
      "metadata": {
        "id": "o1qd7n1-VlPV"
      },
      "source": [
        "https://adventofcode.com/2015/day/13"
      ]
    },
    {
      "cell_type": "code",
      "metadata": {
        "id": "Wz3R-w_dVksb"
      },
      "source": [
        "input = r'''Alice would gain 54 happiness units by sitting next to Bob.\n",
        "Alice would lose 81 happiness units by sitting next to Carol.\n",
        "Alice would lose 42 happiness units by sitting next to David.\n",
        "Alice would gain 89 happiness units by sitting next to Eric.\n",
        "Alice would lose 89 happiness units by sitting next to Frank.\n",
        "Alice would gain 97 happiness units by sitting next to George.\n",
        "Alice would lose 94 happiness units by sitting next to Mallory.\n",
        "Bob would gain 3 happiness units by sitting next to Alice.\n",
        "Bob would lose 70 happiness units by sitting next to Carol.\n",
        "Bob would lose 31 happiness units by sitting next to David.\n",
        "Bob would gain 72 happiness units by sitting next to Eric.\n",
        "Bob would lose 25 happiness units by sitting next to Frank.\n",
        "Bob would lose 95 happiness units by sitting next to George.\n",
        "Bob would gain 11 happiness units by sitting next to Mallory.\n",
        "Carol would lose 83 happiness units by sitting next to Alice.\n",
        "Carol would gain 8 happiness units by sitting next to Bob.\n",
        "Carol would gain 35 happiness units by sitting next to David.\n",
        "Carol would gain 10 happiness units by sitting next to Eric.\n",
        "Carol would gain 61 happiness units by sitting next to Frank.\n",
        "Carol would gain 10 happiness units by sitting next to George.\n",
        "Carol would gain 29 happiness units by sitting next to Mallory.\n",
        "David would gain 67 happiness units by sitting next to Alice.\n",
        "David would gain 25 happiness units by sitting next to Bob.\n",
        "David would gain 48 happiness units by sitting next to Carol.\n",
        "David would lose 65 happiness units by sitting next to Eric.\n",
        "David would gain 8 happiness units by sitting next to Frank.\n",
        "David would gain 84 happiness units by sitting next to George.\n",
        "David would gain 9 happiness units by sitting next to Mallory.\n",
        "Eric would lose 51 happiness units by sitting next to Alice.\n",
        "Eric would lose 39 happiness units by sitting next to Bob.\n",
        "Eric would gain 84 happiness units by sitting next to Carol.\n",
        "Eric would lose 98 happiness units by sitting next to David.\n",
        "Eric would lose 20 happiness units by sitting next to Frank.\n",
        "Eric would lose 6 happiness units by sitting next to George.\n",
        "Eric would gain 60 happiness units by sitting next to Mallory.\n",
        "Frank would gain 51 happiness units by sitting next to Alice.\n",
        "Frank would gain 79 happiness units by sitting next to Bob.\n",
        "Frank would gain 88 happiness units by sitting next to Carol.\n",
        "Frank would gain 33 happiness units by sitting next to David.\n",
        "Frank would gain 43 happiness units by sitting next to Eric.\n",
        "Frank would gain 77 happiness units by sitting next to George.\n",
        "Frank would lose 3 happiness units by sitting next to Mallory.\n",
        "George would lose 14 happiness units by sitting next to Alice.\n",
        "George would lose 12 happiness units by sitting next to Bob.\n",
        "George would lose 52 happiness units by sitting next to Carol.\n",
        "George would gain 14 happiness units by sitting next to David.\n",
        "George would lose 62 happiness units by sitting next to Eric.\n",
        "George would lose 18 happiness units by sitting next to Frank.\n",
        "George would lose 17 happiness units by sitting next to Mallory.\n",
        "Mallory would lose 36 happiness units by sitting next to Alice.\n",
        "Mallory would gain 76 happiness units by sitting next to Bob.\n",
        "Mallory would lose 34 happiness units by sitting next to Carol.\n",
        "Mallory would gain 37 happiness units by sitting next to David.\n",
        "Mallory would gain 40 happiness units by sitting next to Eric.\n",
        "Mallory would gain 18 happiness units by sitting next to Frank.\n",
        "Mallory would gain 7 happiness units by sitting next to George.'''"
      ],
      "execution_count": null,
      "outputs": []
    },
    {
      "cell_type": "code",
      "metadata": {
        "id": "CJDQKF8Damqi"
      },
      "source": [
        "import numpy as np\n",
        "import xarray as xr\n",
        "import re\n",
        "from itertools import *"
      ],
      "execution_count": null,
      "outputs": []
    },
    {
      "cell_type": "code",
      "metadata": {
        "id": "2p8l7DkuWVpH"
      },
      "source": [
        "line_re = re.compile(r'(?P<name1>[A-Za-z]+) would (?P<gol>gain|lose) (?P<num>[0-9]+) happiness units by sitting next to (?P<name2>[A-Za-z]+).')\n",
        "\n",
        "names = set()\n",
        "values = []\n",
        "\n",
        "for line in input.split('\\n'):\n",
        "  mo = line_re.fullmatch(line)\n",
        "  assert mo is not None\n",
        "  name1, name2, gol, num = mo.group('name1', 'name2', 'gol', 'num')\n",
        "  num = int(num)\n",
        "  if gol == 'lose':\n",
        "    num *= -1\n",
        "  names.add(name1)\n",
        "  names.add(name2)\n",
        "  values.append((name1, name2, num))"
      ],
      "execution_count": null,
      "outputs": []
    },
    {
      "cell_type": "code",
      "metadata": {
        "id": "a27EL-5GXdL4"
      },
      "source": [
        "names = sorted(list(names))\n",
        "n_names = len(names)\n",
        "\n",
        "table = xr.DataArray(np.zeros((n_names, n_names), dtype=int), dims=('name1', 'name2'), coords={'name1': names, 'name2': names})\n",
        "\n",
        "#for name1, name2, num in values:\n",
        "#  table.loc['name1':name1, 'name2':name2] = 7\n",
        "#table.loc['name1':'Alice', 'name2':'Bob'] = 3\n",
        "#table"
      ],
      "execution_count": null,
      "outputs": []
    },
    {
      "cell_type": "code",
      "metadata": {
        "colab": {
          "base_uri": "https://localhost:8080/"
        },
        "id": "yIiQGVYUdqXW",
        "outputId": "118c82a9-1ffc-4abb-c6f4-df9501e1d606"
      },
      "source": [
        "axis_d = {a: b for b, a in enumerate(names)}\n",
        "\n",
        "table = np.zeros((n_names, n_names), dtype=int)\n",
        "for name1, name2, num in values:\n",
        "  table[axis_d[name1], axis_d[name2]] += num\n",
        "table"
      ],
      "execution_count": null,
      "outputs": [
        {
          "output_type": "execute_result",
          "data": {
            "text/plain": [
              "array([[  0,  54, -81, -42,  89, -89,  97, -94],\n",
              "       [  3,   0, -70, -31,  72, -25, -95,  11],\n",
              "       [-83,   8,   0,  35,  10,  61,  10,  29],\n",
              "       [ 67,  25,  48,   0, -65,   8,  84,   9],\n",
              "       [-51, -39,  84, -98,   0, -20,  -6,  60],\n",
              "       [ 51,  79,  88,  33,  43,   0,  77,  -3],\n",
              "       [-14, -12, -52,  14, -62, -18,   0, -17],\n",
              "       [-36,  76, -34,  37,  40,  18,   7,   0]])"
            ]
          },
          "metadata": {
            "tags": []
          },
          "execution_count": 54
        }
      ]
    },
    {
      "cell_type": "code",
      "metadata": {
        "colab": {
          "base_uri": "https://localhost:8080/"
        },
        "id": "j0Shse5Uj0pp",
        "outputId": "96f5c596-5c25-4976-921e-f845e4e42d0e"
      },
      "source": [
        "table2 = table + table.T\n",
        "table2"
      ],
      "execution_count": null,
      "outputs": [
        {
          "output_type": "execute_result",
          "data": {
            "text/plain": [
              "array([[   0,   57, -164,   25,   38,  -38,   83, -130],\n",
              "       [  57,    0,  -62,   -6,   33,   54, -107,   87],\n",
              "       [-164,  -62,    0,   83,   94,  149,  -42,   -5],\n",
              "       [  25,   -6,   83,    0, -163,   41,   98,   46],\n",
              "       [  38,   33,   94, -163,    0,   23,  -68,  100],\n",
              "       [ -38,   54,  149,   41,   23,    0,   59,   15],\n",
              "       [  83, -107,  -42,   98,  -68,   59,    0,  -10],\n",
              "       [-130,   87,   -5,   46,  100,   15,  -10,    0]])"
            ]
          },
          "metadata": {
            "tags": []
          },
          "execution_count": 55
        }
      ]
    },
    {
      "cell_type": "code",
      "metadata": {
        "colab": {
          "base_uri": "https://localhost:8080/"
        },
        "id": "FWRg4JAAkluh",
        "outputId": "3553fa03-60e7-4e5a-be07-29652cae99b8"
      },
      "source": [
        "def pairwise(iterable):\n",
        "    \"s -> (s0,s1), (s1,s2), (s2, s3), ...\"\n",
        "    a, b = tee(iterable)\n",
        "    next(b, None)\n",
        "    return zip(a, b)\n",
        "\n",
        "def cost(order):\n",
        "  c = table2[axis_d[order[0]], axis_d[order[-1]]]\n",
        "  for a, b in pairwise(order):\n",
        "    c += table2[axis_d[a], axis_d[b]]\n",
        "  return c\n",
        "\n",
        "max(((p, cost(p)) for p in permutations(names)), key=lambda pair: pair[1])"
      ],
      "execution_count": null,
      "outputs": [
        {
          "output_type": "execute_result",
          "data": {
            "text/plain": [
              "(('Alice', 'Bob', 'Mallory', 'Eric', 'Carol', 'Frank', 'David', 'George'), 709)"
            ]
          },
          "metadata": {
            "tags": []
          },
          "execution_count": 59
        }
      ]
    },
    {
      "cell_type": "markdown",
      "metadata": {
        "id": "Mi3JyglCmuX7"
      },
      "source": [
        "https://adventofcode.com/2015/day/13#part2"
      ]
    },
    {
      "cell_type": "code",
      "metadata": {
        "colab": {
          "base_uri": "https://localhost:8080/"
        },
        "id": "FEOz8Jy0l5WS",
        "outputId": "02c5e466-531f-4318-aa08-46be19737867"
      },
      "source": [
        "table3 = np.zeros((9,9), dtype=np.int)\n",
        "table3[:8, :8] += table2\n",
        "table3"
      ],
      "execution_count": null,
      "outputs": [
        {
          "output_type": "execute_result",
          "data": {
            "text/plain": [
              "array([[   0,   57, -164,   25,   38,  -38,   83, -130,    0],\n",
              "       [  57,    0,  -62,   -6,   33,   54, -107,   87,    0],\n",
              "       [-164,  -62,    0,   83,   94,  149,  -42,   -5,    0],\n",
              "       [  25,   -6,   83,    0, -163,   41,   98,   46,    0],\n",
              "       [  38,   33,   94, -163,    0,   23,  -68,  100,    0],\n",
              "       [ -38,   54,  149,   41,   23,    0,   59,   15,    0],\n",
              "       [  83, -107,  -42,   98,  -68,   59,    0,  -10,    0],\n",
              "       [-130,   87,   -5,   46,  100,   15,  -10,    0,    0],\n",
              "       [   0,    0,    0,    0,    0,    0,    0,    0,    0]])"
            ]
          },
          "metadata": {
            "tags": []
          },
          "execution_count": 62
        }
      ]
    },
    {
      "cell_type": "code",
      "metadata": {
        "colab": {
          "base_uri": "https://localhost:8080/"
        },
        "id": "9DpckjzTmz5M",
        "outputId": "54f36cc2-31e1-4b3c-fcc8-567f0013672e"
      },
      "source": [
        "axis_d2 = {**axis_d, 'myself': 8}\n",
        "axis_d2"
      ],
      "execution_count": null,
      "outputs": [
        {
          "output_type": "execute_result",
          "data": {
            "text/plain": [
              "{'Alice': 0,\n",
              " 'Bob': 1,\n",
              " 'Carol': 2,\n",
              " 'David': 3,\n",
              " 'Eric': 4,\n",
              " 'Frank': 5,\n",
              " 'George': 6,\n",
              " 'Mallory': 7,\n",
              " 'myself': 8}"
            ]
          },
          "metadata": {
            "tags": []
          },
          "execution_count": 64
        }
      ]
    },
    {
      "cell_type": "code",
      "metadata": {
        "colab": {
          "base_uri": "https://localhost:8080/"
        },
        "id": "JxYI-w8KnWjp",
        "outputId": "55f6e1d6-3562-41da-e13d-11c2f3f7a3d9"
      },
      "source": [
        "def cost2(order):\n",
        "  c = table3[axis_d2[order[0]], axis_d2[order[-1]]]\n",
        "  for a, b in pairwise(order):\n",
        "    c += table3[axis_d2[a], axis_d2[b]]\n",
        "  return c\n",
        "\n",
        "max(((p, cost2(p)) for p in permutations([*names, 'myself'])), key=lambda pair: pair[1])"
      ],
      "execution_count": null,
      "outputs": [
        {
          "output_type": "execute_result",
          "data": {
            "text/plain": [
              "(('Alice',\n",
              "  'Bob',\n",
              "  'Mallory',\n",
              "  'Eric',\n",
              "  'Carol',\n",
              "  'Frank',\n",
              "  'myself',\n",
              "  'David',\n",
              "  'George'),\n",
              " 668)"
            ]
          },
          "metadata": {
            "tags": []
          },
          "execution_count": 65
        }
      ]
    },
    {
      "cell_type": "code",
      "metadata": {
        "id": "zehti4hYnsDW"
      },
      "source": [
        ""
      ],
      "execution_count": null,
      "outputs": []
    }
  ]
}