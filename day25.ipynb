{
  "nbformat": 4,
  "nbformat_minor": 0,
  "metadata": {
    "colab": {
      "name": "day25.ipynb",
      "provenance": [],
      "collapsed_sections": []
    },
    "kernelspec": {
      "name": "python3",
      "display_name": "Python 3"
    }
  },
  "cells": [
    {
      "cell_type": "markdown",
      "metadata": {
        "id": "onFGHfCAr5WX"
      },
      "source": [
        "https://adventofcode.com/2015/day/25"
      ]
    },
    {
      "cell_type": "code",
      "metadata": {
        "id": "SKMKHgXI7Ive"
      },
      "source": [
        "input = r'''To continue, please consult the code grid in the manual.  Enter the code at row 2978, column 3083.'''\r\n",
        "input_row = 2978\r\n",
        "input_col = 3083\r\n",
        "first_num = 20151125"
      ],
      "execution_count": 26,
      "outputs": []
    },
    {
      "cell_type": "code",
      "metadata": {
        "id": "Ssq2I6LV7QsQ"
      },
      "source": [
        "from itertools import *\n",
        "from more_itertools import *\n",
        "import numpy as np\n",
        "import networkx as nx\n",
        "import re\n",
        "from sympy.ntheory import factorint\n",
        "from collections import defaultdict\n",
        "import copy as copy"
      ],
      "execution_count": 27,
      "outputs": []
    },
    {
      "cell_type": "code",
      "metadata": {
        "id": "ixJTWQht7fVV"
      },
      "source": [
        "def next_num(num):\n",
        "  num = num * 252533\n",
        "  num = num % 33554393\n",
        "  return num\n",
        "\n",
        "def ith_num(first_num, i):\n",
        "  num = first_num\n",
        "  for _ in range(i-1):\n",
        "    num = next_num(num)\n",
        "  return num"
      ],
      "execution_count": 28,
      "outputs": []
    },
    {
      "cell_type": "code",
      "metadata": {
        "colab": {
          "base_uri": "https://localhost:8080/"
        },
        "id": "F-4M3VR4pr8K",
        "outputId": "e0888f5a-42e1-4a8c-a5a4-14ba8b931c15"
      },
      "source": [
        "next_num(first_num)"
      ],
      "execution_count": 29,
      "outputs": [
        {
          "output_type": "execute_result",
          "data": {
            "text/plain": [
              "31916031"
            ]
          },
          "metadata": {
            "tags": []
          },
          "execution_count": 29
        }
      ]
    },
    {
      "cell_type": "code",
      "metadata": {
        "id": "SSavSblQ8z96",
        "colab": {
          "base_uri": "https://localhost:8080/"
        },
        "outputId": "6b0fa192-02bc-4323-bce1-94bd5907040f"
      },
      "source": [
        "print(21+6+7+8+9+10)\r\n",
        "16+7+8+9+10+11"
      ],
      "execution_count": 30,
      "outputs": [
        {
          "output_type": "stream",
          "text": [
            "61\n"
          ],
          "name": "stdout"
        },
        {
          "output_type": "execute_result",
          "data": {
            "text/plain": [
              "61"
            ]
          },
          "metadata": {
            "tags": []
          },
          "execution_count": 30
        }
      ]
    },
    {
      "cell_type": "markdown",
      "metadata": {
        "id": "Og4ef71rqKez"
      },
      "source": [
        "The code in place 6,6 is the 21+6+7+8+9+10=61st number."
      ]
    },
    {
      "cell_type": "code",
      "metadata": {
        "colab": {
          "base_uri": "https://localhost:8080/"
        },
        "id": "IQqWyxw4q6BT",
        "outputId": "b1017929-a8bb-4fce-b995-48aff3bfa4c3"
      },
      "source": [
        "ith_num(first_num, 61)"
      ],
      "execution_count": 31,
      "outputs": [
        {
          "output_type": "execute_result",
          "data": {
            "text/plain": [
              "27995004"
            ]
          },
          "metadata": {
            "tags": []
          },
          "execution_count": 31
        }
      ]
    },
    {
      "cell_type": "code",
      "metadata": {
        "id": "SJ3KYHRpqw3g"
      },
      "source": [
        "def find_k(r, c):\r\n",
        "  d = r + c - 1\r\n",
        "  return d*(d-1)//2 + c"
      ],
      "execution_count": 32,
      "outputs": []
    },
    {
      "cell_type": "code",
      "metadata": {
        "colab": {
          "base_uri": "https://localhost:8080/"
        },
        "id": "dGSHuPATreBR",
        "outputId": "6dc3adbe-493a-4e1f-9db0-8c295482d35f"
      },
      "source": [
        "find_k(input_row, input_col)"
      ],
      "execution_count": 33,
      "outputs": [
        {
          "output_type": "execute_result",
          "data": {
            "text/plain": [
              "18361853"
            ]
          },
          "metadata": {
            "tags": []
          },
          "execution_count": 33
        }
      ]
    },
    {
      "cell_type": "code",
      "metadata": {
        "colab": {
          "base_uri": "https://localhost:8080/"
        },
        "id": "elX4l21hrmDL",
        "outputId": "6eb7c037-0234-4630-b714-0ff86fa1002d"
      },
      "source": [
        "ith_num(first_num, find_k(input_row, input_col))"
      ],
      "execution_count": 34,
      "outputs": [
        {
          "output_type": "execute_result",
          "data": {
            "text/plain": [
              "2650453"
            ]
          },
          "metadata": {
            "tags": []
          },
          "execution_count": 34
        }
      ]
    }
  ]
}