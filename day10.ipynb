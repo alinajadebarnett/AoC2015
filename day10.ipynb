{
  "nbformat": 4,
  "nbformat_minor": 0,
  "metadata": {
    "colab": {
      "name": "day10.ipynb",
      "provenance": [],
      "collapsed_sections": []
    },
    "kernelspec": {
      "name": "python3",
      "display_name": "Python 3"
    }
  },
  "cells": [
    {
      "cell_type": "markdown",
      "metadata": {
        "id": "vMyETNTrxAnG"
      },
      "source": [
        "https://adventofcode.com/2015/day/10"
      ]
    },
    {
      "cell_type": "code",
      "metadata": {
        "id": "bj2k1g70w-AD"
      },
      "source": [
        "input = r'''1113222113'''"
      ],
      "execution_count": null,
      "outputs": []
    },
    {
      "cell_type": "code",
      "metadata": {
        "id": "GKMBtb6sxU4g"
      },
      "source": [
        "from itertools import *"
      ],
      "execution_count": null,
      "outputs": []
    },
    {
      "cell_type": "code",
      "metadata": {
        "colab": {
          "base_uri": "https://localhost:8080/",
          "height": 35
        },
        "id": "RIm8sbMZxsAo",
        "outputId": "bef78b20-3166-4e56-eac3-3019fb94c312"
      },
      "source": [
        "def ls(s):\n",
        "  o = ''\n",
        "  for c, i in groupby(s):\n",
        "    o += str(len(list(i)))\n",
        "    o += c\n",
        "  return o\n",
        "\n",
        "ls(input)"
      ],
      "execution_count": null,
      "outputs": [
        {
          "output_type": "execute_result",
          "data": {
            "application/vnd.google.colaboratory.intrinsic+json": {
              "type": "string"
            },
            "text/plain": [
              "'11'"
            ]
          },
          "metadata": {
            "tags": []
          },
          "execution_count": 16
        }
      ]
    },
    {
      "cell_type": "code",
      "metadata": {
        "colab": {
          "base_uri": "https://localhost:8080/"
        },
        "id": "BnvjkfB5ydEg",
        "outputId": "bc85f1bf-27e7-45c6-e8e8-cb5664869f7d"
      },
      "source": [
        "cw = input\n",
        "\n",
        "for i in range(50):\n",
        "  #print(cw)\n",
        "  cw = ls(cw)\n",
        "\n",
        "print(len(cw))"
      ],
      "execution_count": null,
      "outputs": [
        {
          "output_type": "stream",
          "text": [
            "3579328\n"
          ],
          "name": "stdout"
        }
      ]
    }
  ]
}