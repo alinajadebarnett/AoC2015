{
  "nbformat": 4,
  "nbformat_minor": 0,
  "metadata": {
    "colab": {
      "name": "day3.ipynb",
      "provenance": [],
      "collapsed_sections": []
    },
    "kernelspec": {
      "name": "python3",
      "display_name": "Python 3"
    }
  },
  "cells": [
    {
      "cell_type": "markdown",
      "metadata": {
        "id": "LF4DU2Vu2FUG"
      },
      "source": [
        "https://adventofcode.com/2015/day/3"
      ]
    },
    {
      "cell_type": "code",
      "metadata": {
        "colab": {
          "base_uri": "https://localhost:8080/"
        },
        "id": "SMaqEaXL0U_G",
        "outputId": "5cd22a87-7524-4428-9ffd-ef880300482a"
      },
      "source": [
        "def loc(s):\n",
        "  x = s.count('>') - s.count('<')\n",
        "  y = s.count('^') - s.count('v')\n",
        "  return (x,y)\n",
        "\n",
        "print(loc(''))\n",
        "print(loc('>>^v^'))"
      ],
      "execution_count": null,
      "outputs": [
        {
          "output_type": "stream",
          "text": [
            "(0, 0)\n",
            "(2, 1)\n"
          ],
          "name": "stdout"
        }
      ]
    },
    {
      "cell_type": "code",
      "metadata": {
        "colab": {
          "base_uri": "https://localhost:8080/"
        },
        "id": "xwFhb0bI1W2T",
        "outputId": "c437facd-20fb-4d58-ab54-7f3e5f9a3b29"
      },
      "source": [
        "def visited(s):\n",
        "  houses = set()\n",
        "  for i in range(0, len(s)+1):\n",
        "    ss = s[0:i]\n",
        "    xy = loc(ss)\n",
        "    houses.add(xy)\n",
        "  return len(houses)\n",
        "\n",
        "print(visited(''))\n",
        "print(visited('^>v<'))\n",
        "print(visited('^v^v^v^v^v'))"
      ],
      "execution_count": null,
      "outputs": [
        {
          "output_type": "stream",
          "text": [
            "1\n",
            "4\n",
            "2\n"
          ],
          "name": "stdout"
        }
      ]
    },
    {
      "cell_type": "code",
      "metadata": {
        "id": "kfpJPaGB3MYt"
      },
      "source": [
        "input = '^^<<v<<v><v^^<><>^^<v<v^>>^^^><^>v^>v><><><<vv^^<^>^^<v^>v>v^v>>>^<>v<^<v^><^>>>>><<v>>^>>^>v^>><<^>v>v<>^v^v^vvv><>^^>v><v<><>^><^^<vv^v<v>^v>>^v^>v><>v^<vv>^><<v^>vv^<<>v>>><<<>>^<vv<^<>^^vv>>>^><<<<vv^v^>>><><^>v<>^>v<v^v<^vv><^v^><<<<>^<>v>^v>v<v<v<<>v<^<<<v>>>>>^^v>vv^^<>^<>^^^^<^^^v<v^^>v<^^v^^>v>^v^^^^>><<v<>v<>^v^<v<>><>^^><<^^<^^>vv<>v^<^v<vv<<<>^>^^>^<>v^^vv<>>v><<<>vvv<>v<>><^<^v<>^vv>^^v<v<v><^<>>vv<^>>^>>vv^v<vv^vv<^<<>>^v^<>^>>>>vv>^^>v>vv>v><^vv^<<v>^<<^^<v<v>vv<v^^<>^^v>^>>v><^<<vv<<v^vv^^^v>>v<<v^><vv^><vv<^vv<<vv^v<<^v<^^v>><<v^>>^^<>v>><<v<>>^^<v>>^^>>vvv^><<<<<^<^vv<^<><v<<>^^^<<<^>^^^<v<<vv>vv<>^<>v<^v>^<<<v<v<v>>^v<>>v<<^<<v<<>^<<<><><>^>>>>^>v^v<<v<v<<>>vv<^vvv^^^^<vv>vv>^v^^v^<v^v><^vv<^vv>v<^>vv<>>^>^><vv<><^>v>^v>vvv<>^>^v<><>vv>><^v^<><><v>>v^v^><^<^>vv>v<^>vvv>v<<<<<^<v<<vv<^^^<<>>^v<vv<^<>v>^<v<>><><>^<<v>v^>^<vv>><><>>^>^>><^<v>^^>^^>^^v^^<^v^^>v^^>>><<><v<v<<v^vv<><><>^<v>^<<^^v^>v>><>^^^><^vvv<^^^^^v><<><v<^^v><><>>^>vv<vvvv<<>>><v<^^^^v<<^><v>^vv<v^^v^vv<^^>^^<v>><<v^>v<^^>^<^<v<^^v>^<<v>^>>>^v<>v<^^^>vvv^v<<^><>>><vvv^<^^^<^>>v>>><v>^^vvv^vvv<^^^^v^v^<vv^<v>^<<^>v^v^<<><>><^v><v<><<>><<<>^v>v<>^<v^v>^vv>>^<>v^^<<v><^v>>v<>>^v^^>><^>v^<^v^^>><>v^>^v^v<<<v^<v^^v<^>v<><>vv>>>>^>v<>v<<<>^^>vv^v<><v^<>^<<<<>>^^>^v<v^v<<><>^v<>>^v^<<^<^>>>^vv<><v<^^<>v^>>v<^^v<v>>>^>><<><<<>><vv<v>>^v>><^<v><vv>^vv<v<>>><>v^><>vv<^^v^^^v<>><^vvv<<^<>v>>>v>><v><>>><>><v^><v^v<v>^v>v<v>>^^<^>^>v><>vv>^v><<>>>>>>>^<<^vv^^vvvv<^^><<<v<<>vvv<>^><<v<v^v^<<v>v<>>^<vv^<v<v>^<<^^vv>v>^<vv<<>v<v^<>v>>^v^^vvvv>^^>>v^v^^><<^>v>>^^>^<^^<>v<v>vv^vv>v<v>>^v<><^vv^<vv<v^^^v<^v^>>^v>>>^^<^<^>^v^>^>>>^v>^>^^^>>^<>v^^<>^v<<^^>^^<vv<>v<^v^>><^v^>^<>>^vv^vv^>v^<vvvvvv^>><^^<^v<^<v^<<^^<<v^<^>><>v><^v^v^^^v>v^<>^<<v<^^vvv<v>^^>^v^^<><vv^v^>v^<<>>vv<>>>>v>v<>^>>>v<>^^><v<v^^^<>^<^><>^><<v>><>^<<>>><<^<vvv<^><v>>^vv^v>><v<>vv^<<^^<<><v><<^<v<vv<<^v^vv>v^>>>v<<<<v<<>v>^vv<^v><v<v>v<^>^^vv>v><v>><<v<<v^v>>><>^<>><><<^<<^v^v<<v>v>v<v<^^>vv<^v^^^<v^<<<v<>v^><^v>^<^<v>>^<<<v>>v^<><>>^v<>vvv<vvvvv<^^><^>><^^>^>^v^vv<^><<^v>><^^v>^v<>^>vvvv><^>^<<v^^vv<v^^<><>v>^>>^<^<<<^v^^^>^>>^>><><<^>v^^<v>>v<<<<vvv<vvvv^<^<v^^<>^>vvv^<vv^v^v>^<<><v><^v^v^^^>^^>^vv<>v>>v^>vv^vv>v<^v^^>>^v^v<>>^^><<v<<>><>>>^>^<>^^v^^><^<>><<^<vv^^^^^>>vv^<v^<^>>>>v<<><<^>vv>vvv>^<><>>>>vv><<v^v<^^^<<^^^vv^<v<><><<<<>><<v^<>v>v^><>v^v^^><>v>v>^^v<^v<>>^^^^^<v>><v^>^^<v>><v^^>v<^<^>>>^><^^>><<>>^><>^^^>v^^^>^^v^<>^^><^>>><><^>>v<v^>v<^><v<v^<>v<^v>v^<^vv^^><<<><><^v^<v<^^>v>v^>>^^vv^<v>^v>^<^v<>^>^><^<v>^v><^<^<>v^^>^><>>><<v><<><>v<<^v^^<^><>^<><><v>v<^^<v<v>>^^<<>>^<v>><^><^<^>^^v<>v>>><><<>^>v><><<<<v^^^^v<>>^^^v>><<^v>^>>><vv^>>^vv<^<>>^<^^<^v>v<v<<<<<>^<<^<<<<<^<^>>^><<>><>v^v>^<^>v^<><vvv^>^v^v^v><^<v<>vv<<^<>^^^<>^v>^<v^^<v^v>v<>>^>v<<>v<>v^v>v<<<>>v>vv>>v<<>v<>v<^>^>^<v>>v>^>^^^<vv>v<<>>><v>^vvv^^>^^<^vv^^^^>v>^v^>v^^v^>>^v>^vv>^^v^<<<<>^<><^<^<<^^>v^^^v<>>vvv<v>>vv><v<v>^<^v>>^v<vv^<<v<vv><^^v^v>v<>^v<<<^^v^^^<^v>v^v^v>><vvv<<>v<>^v>vv^v>vv<<^v<v>^v>v>><^v<v<>v>>>><<<><vv><>^v^<^vvv>v<>><^v>^>><v>vv<><><>v><>>><^>vv>>^<>v^>>^><<<^><<>^v^>>><><>vv>^<>^>^v^^><^>>><<>v^<^vv>^<^vv>><v<>vv<v><><<^><>v<^^<^>vv^^^^vv<<v><>vv<><v>v<>>>>^><v><>^<><>v<>><<>^^vvv>^^^<><>>vvv^v>><>vv<vv>^^^v^<<>^^v<><<^^v<>^^>^<^^v>>v^v^^>>v>>>^<<^<>^>^^v>>>><vv<<>^v<<vv><<^^vv><^>vv<>>v<v>v^>v>>v^<vv<<<v><v^>vvv^^>vv^<<v>v^>>v^<>>><><<^^<^v>^>>>v>v>^v<>vv><vv<vvv<<v>v>^v<<<>><<><><>v^>>>v^>v^>>vv^^<v>^<>>><^>v^<>^^><v>v<><<<><v^v<<<v<v^>v^v>^>v<^<>v>v^^>>v>vv^v<>>^^^^<>v^>>>>>>>><v<^<<vvv<^v^>^v<^<<>>><<<^<<^>^>v^<>^<<<>v>><^vv^>^>^>>>^<vv><v^^^<v^<v<><v^vvv<>v<vvv^vv<<<v^<^<^vvvv^<<vv<^v><<>^>^<v^v^<^>v^><>>v^>v^>^>>v<>vv^v<<>^^>>vv<>vv>>^v<^vv>^v>v<v^vvv^<<^><>v^<><vv><>v^^><<<><>^>^v^<>><vv<^>v^v>v<>><v<<^>^<vv<^v>^<<v><^<^^vv^<>><v^>^vv^<>>^^^^v>v><^^^v^<<<>^<^<<>><>>v<<^v^>><><v^>>^vv^v>vv>>>>>>^^<<>v^>v^v>^^>>><vv^^^v>^v>>^^^<>><>v^<<<v<vv^^<v^<<<>v>v^^^<vv<>>^v>^v<^<<><>vv>^^^<^^vv<v<<vv>^^>vv>v<<^>^vv><^><v>^^^^v<<vv>v^<<^^>>^^vvvv^v^>vv>>v^<v>vvv<>>^><>>v^^>>^<>>vvvv^>><v^v<^^<^vv>>v<<^<<^><v^^><v^>v^>><<<v>v>v^>^v<v^vv<^^^v<^<vvvvv<<vvv>><>v<v<v<<^v<><<>vv>><v>><^>>^^v>^>><>vv^><<>>vv<<<^<^^>^<<^>>>><v<^v<<<>>v>vv<^>^v><>>v<v^v<>v^vvvv>v^>>v><<^<v>^^v>>vv^^>v>^v>^v^^>^<^vv<v<<^>vv<<^>>^<<^^>>^<^>v^><^vv>^^v><v^>>><>v^v>^v<^><<<>vv><v>v<><>>v^<>^^>^<>^<<^>>vv^><^<v<^^vvv>>v^>>v^>v>vv><>>v<^>><<<v<<vv><v<v<v>v<v>vv^vvv^vv^>^>v><vv<v^^<>>>>vv^>^<>v<^>^<^v>vv<^<<>>^<^<vv><^^<>^<<v^v^>v<<><v>v>><^v<<^vvv>v>v<<^^<^^>v<vv<v<v^v>^^^>^>vv<v<<^^v^<v<^>^^^vv>v<>>>vv>><><^><><<<vvv<<^^v^<v^<<^>>vv>vv^v^>>><v><<v^v>>v>>vv>^^vvv^>^^>^>^>^v<<^vv^>vvv^^vv><^>^v^>^><>v<^^vv<v><v^<><^<>><v>^^v^v>v^vv<>><^v>^<^v>^<>^v>>>><<vv^^^vv^>>><vv^v>>v><^v^vv><<^v<<>^^<v><^v>vvv<><^^><<^v><>^<^v<^^<^vvvv^^>>>>vv>v>>>v<v^><<<<v>>v^><v>>vv^v<vv<>vv<>vvv>>>><>>><>^v<v^v><vvv<<v^^v^v<>>><>>^vv<<v<><<vv<v^>^^vv><^v^v<v^vvv^v>v^^^vv>^><^vvv<<>^vvv^<v<v^v>>>>^<<<><<<<<^v<^^>>>>^>^<v^^^v<vvv<vv^<>v<<<^<^>>v^<v><<><<^^vvv^>v<>>^^>v>^v>>v<v><v>>>>^<^<^>v^v<vv<>^>><>^<<^vvv^^<>^<vvv<>v^>^^<<^>^vv><vvv>>v^v^>v><v>^<^^<>^>^>>>^^vvv^<<>v^<<>><>v<^<^>v^>^vv><v<^<<<^v>^>>^<^v^<<<<^v^><v^v>v^><<v<><<v^<<^<<v<<v><v><><^^^^>v>^^<v>>v<vvv<<<>><>>^><<><^<>>^^>vv<^><^v^><vvv>>>vvv<<vv^<^^^<^>^<>>^>>^v^<^^v>^<v<<>^^v<^vv^><vvv>>^v><<^<v^<><><>>^>vv<<>^^^v^^<v<>><>>vv>v^>vvv^^v<vv<^<^>>^>>^>>v^<<<v^>v^<^v^vv^><^<^v<<v<<>v>^v^<<<v^vv<v<<>^^<v>>>^<v<^>^^v<v>>>><vv<^^<<>><<v<v>^^v^>>^^>>^v^<^v>v^v^v^v^>v^vv<><>^^<>^><^^^<<<^<v>v<<>^<^^^^^v^<^<<^^>^vv<>v^>><>>^>v>v<>^>v<v^>>><>^<><v>>>^>^>>v^><v<>v><^vv^>v<<v>v<><<vv<<v>^><^<v^>v<<v^v<<><v><>v<v><>^^<v<>><<>v>vv<<v>^v<v>vv><><>vv^<<>^>^<^>>>^v>v<^v^^^vv<>>>^<<^>>><<^^v^>v^<^v>vvv>v^^vv>^^>>v<>^<<>^<><^^v^>><>^>v>>^^^<<^^v<>^^>^<>^>><^>^vvv><^>^<^>^>>vv<^>>^v>>^<>>^^>>>v^<v>>v<<v<^>>v^^vv>v><^v^^><vv^v<^>v<<>v^^<><>^>vvv><^^^>^v^>v>>^vvv<^vv>^^>^>>v<>><<^v<<v^>^><>vv^<<^^vv><v>>^<^><^<v>^v<v>^<<>^v^^>v^>>^^^<^vv>v^>>>vv<<>v>>>^>v^^<v^v^^v^>>v<v<<v>^<<>>vv<<^v>v<<vv<<^<^v<^<><^^>v>>v>v^>><vv<^v<^>^>>v>^><<^<<>^v<v>>><^^<^<<<v^^>^>vv<<>^<>^<v^<<^v>vv>^^^v<^v><v<<<<<vv>vv>^^^^>v>v><<^<<<^vv><^<<<><v>><v^v>v<<v^^<v^>v>^v^v^<^<^vv>vvv<^^v<>v<<<<>v<v^<vvv^^^<<^<^<<>^<<><<<>v<^>^^v<^^v^>vv>vvv>v><v^^<<>>^><^>>v<<vv>v<<^^^v<<^v^^><><<<><<>v>^<<>v<<<^v>><v^v<^v<v^vv>v>><<^<><^v^^v<v>^>^>vvvv<<><<>>^<vv>^^><v<>v>v<v^^>^><>>><^><<><<<^<>v^><vv^^^^>>^v^>v^<>>v>^^><^<^v^<v^>>v>^vvv<>>v<v^v><>^vvvv<v^<<v^<<^^vv>><<<<<<v><<<v<v^v^^<v^^<>v<<<<^v<<><<v^<^><v<vv<v^v^<v^^vv<v^v<<<>^<<>vv<v<^>^<<><vv<<vv<v<^<^<>><^^<<>>>vv>>>>>>^v<v<>>v^v^^<v^<<<<>><<^v^^^<>^<vv>>>><>v^v^vvv^>>v>><v^v<<<^v>>^^<<^^vv><<<^^^<<<v><^^>>>>vvv^v<^>^^>v<^<><vv<v<>v>>>^vv<<^<v>^v^>^>^v>v>v^v^>v<<v>><>><v^^<<^>>>><<^v^<>^v<vv><>vvv^>v>v<v<v^>^<><><>^>>><v<<<v^vv><>^>^^<<v^>>v^^>^<v>><>><>v^v^^v>>>>vv>>^v<<^v^<>^>v^^>^^<<vvvvvvv>^<v^<<^<<>><<<^^^v^^^^v<^<>v<^^<>vv^^v^<>^<<^>>v>v<<<^^^^vvv^<^<><>v<<v^<^<>>><<><<<v<v<v><vv>^^<vv<<vv<<<v<^>^^vv<v<>><<>>>^v<<>^>>>v^>v>^^<>^<vv<><^>v>^>>>><>^^>v^^v>^vv^^v^><<<>>v<>v<vv<vv^v^v<^v^<^^><<<><vv^^>^<^<<>v>>>>^<<v>v<v>vv<^><^<v><<^>v>>v><<v<<^v^<>>^>>>^v^v>v^^vv^>^<^^>>^><^vv^^vv^<>>^^^^<^^><><v<>>^>>^><vv^>^vvv<^<<v^^<<<>^><>>>^^<><v<v<><<v^^^^^<^<^<<>><<>>>>^<<>>>^<^v^>><<^>>>^<<v>^>><>^<v>^<><v>^v^^vv<><^>vv^^v^<^^^v^vvv^>><>>v<<vv<>>^<^vvv<<^^><vvv^^<v<>vv^^<<>><v>><^^vvv<<<^>^<><^>vv^><^<<>vv<<v>>vv>v>v^<vv><vv><<>^^^^v^^^^<v>^<<^><><^^v^>v>^>><^><<>v^<v>>>^vvv>>^<^<>^^v^vv^^v><<vv^<>>>v<<<>v>^<>v<<>v^>^<<><<><v<v<v<>v^>v<><^^>^<^v^^><^>vv>^>vv<v<^v>vv>^^><<>vv^>^v<<^<<^<<>v<v<^<v>v>>^><v^^v^v>>>><v^v^<<<vv<<^^<>>v^v<^v>v>^^^v<v><v^^^vv<>v^v<^<>v><><v^<>>vv>v><>v>^v<><<<<<<v<>>v^vv<<<<v<<v><^<>^>><>^^vv>^<^<<>vv>>vv<vvv>><><v<>><^<v>^><^<<v>><v><v>^<v>><>v^^^^v<v^^v<>^^vv<>v<>v>^vv^><v^<<^<>^<>^^^>v^>>>v><<^>>v<^v<>^^<v<><v^v<v>v<><v<vv><<>v<^<^>v<>v^>v>^^<<<^^vv^<><<<>>v>^^<>v>>>><v<v<^^^v<v<v^><<>v^v<>v>><<<<v^<><^<<^>^<vvv<v^^v>>v^vv^><^v^^<>^^><<v^>>vv>^<v^vv<^^v<>>vvv<^v^>>^<v<v>>^>^^<<^>^>^v><>>^<^^v>^>>^^<><>>>^^>^^vvv>v<^^<>v^v^^<v<<^<v^v^<<>v^v<v<<v<>>><<^^^>>v>^vv>^>^^v<>^^<>v^^<><v<v<vvv^<vv<<>v^><<><v<>vv<<^vvvv><<<v>v>v^>v^<>v^>^<v<vvv^>^<>^>^^v<>><<<><v<^^>^v<v>^^v^v<<<^v^<>^<>v>^^>v<v<v>v>^^<<<><<^>v<v<^vv^v><^^<<vv>^<<v><>^>>>>><v^v<<<^>^v^v<<v<>vvv<<>v>v>>^v^v^>><<<<>v^<v<><<>>>^>>^>><<v>'"
      ],
      "execution_count": null,
      "outputs": []
    },
    {
      "cell_type": "code",
      "metadata": {
        "colab": {
          "base_uri": "https://localhost:8080/"
        },
        "id": "b09qbBCu3WjG",
        "outputId": "90ef0517-164f-47d1-e3c7-ff1e4a4ef143"
      },
      "source": [
        "visited(input)"
      ],
      "execution_count": null,
      "outputs": [
        {
          "output_type": "execute_result",
          "data": {
            "text/plain": [
              "2565"
            ]
          },
          "metadata": {
            "tags": []
          },
          "execution_count": 10
        }
      ]
    },
    {
      "cell_type": "markdown",
      "metadata": {
        "id": "JxfwYLCl5AdV"
      },
      "source": [
        "part two"
      ]
    },
    {
      "cell_type": "code",
      "metadata": {
        "colab": {
          "base_uri": "https://localhost:8080/",
          "height": 137
        },
        "id": "5NAIhhaG3jlX",
        "outputId": "0e18deae-74bb-4e0e-a48a-a3403fbdf34b"
      },
      "source": [
        "input[1::2]"
      ],
      "execution_count": null,
      "outputs": [
        {
          "output_type": "execute_result",
          "data": {
            "application/vnd.google.colaboratory.intrinsic+json": {
              "type": "string"
            },
            "text/plain": [
              "'^<<v<^<<^<<^>^>^v>>>><v^^^<^vvv>^><<^<>>><>^>>^><>><^^^v>>^v<<<^<^v^<>v>v>>>^v>><^v^<v><<><v^>^v>^<<v^^><<><^vvv^v<v><<^>>vvvv<v^<v>>^vv^<^>^^^^<^><^^>>v^^><<v>v<<>>^<^<^v<v<vv<<^^><v^v>v<<vv><>^^<^v^vvv<<>v^>>v^<vv<<>^^>>>v>^vv>>^v<v^<^vvv<^<^v^>>^<v<^v^v><v>v^<v^v<vv<v^v><^>^>><v>^<>^>vv><<^^v^>v<^^<^^^v<vv<^><v^<vvv>v>v<<v<^<>>>>>^vv<<<>v<vv^^v>v^^v<^>^v^vv^v<>>>v<<>>vvv>>v>>v>^^>>v>^^<<>vv^vvv<<^v<v^^<>vv<<v^v><<^<>^^v><<>>><<>^^>^^<v^v^><>vv<^v>>><><^v>><^^<vv^^^><<<^>>>^v<vv<><<^^<^<>v<^vv<^^<><v><^^^v^v^<>>>v><^>v^<^<><v^^^^>>>v^vvvv^^vv<v<><^vv<>><v<<<><<^><^vv^v><v^<>^>v>^^><>^^^><v>vv<v<^v^v>>v>>><v<>^v^<<^><<>^>vvv<<^<>v<^^>^v>v^<v>v^vv>^><<<>v<>^><<>v>v<<><v>>v^v^v><vv<<v>v>v<><>v>vvv^><>^<>>>>v^><>>>^<v^vv<^<<<>v<^<vvv<vv>^v^vv^<^vv^v<><^>>^^vv>^>^^><>>^><^><>vv><>^<<v^v<^^<v>^>>^^^^^^>^>>^>^>^<^<^>^v<v^^>^^^>^vv^v<vvv><^^<<^<^<^^>>>^^^^>^><v^vvv^>v^>v^^v<>v<>>><^>v>^<<^^><>>><><^<><^vv^<>^vv>v>v<^<>v<^vv<^^vv>><<v<v^v^>vvv^^v>>v><<vv><^><<^<vv<>><<^v<v^<^<v>^<v^^v><<>v<<>v>v<vv<^<><^^^^v^<^><^>v>>vv<><v^vv^>>>>^^<^^^^>><<^v^v><<vvvv^^v^>>v^v^^><>v<vv^>^^v>>v>vv><v^>vv>^><<><>^^>^^>^><^v^^^>v<^^>><><>vvv^>>>v><^<^<^^v<<<<<><v<vv>>^^>>>>^<v>^^^v>v>^v>v^v^^>^<^><>>>^>^^^v<^>^><<>vv><>vv<v^>^^v^<<<<v<<^vv>^v^v^><v>>>^v^>^^>^>>>><><<v<v^^<^>>vv^<<>^<>^v>^<<>^<v><<>>>><<^^v>^^><^>>>v^>v<<><^^><<<<^<<<<<>^<><vv^^v<<v^^^^>^v>v<<^^>v^v^vvv>^v<v>^><<>>v><><v^^^v>>>^<vv<><>vv^^<v^^>>v>^v>^>v>^^<<^>^^<^v^v>vvv>v<<><v>vv^<<v<^^><^<<^^^^>^^><v<><^>vvv<^<>vv>^<<v>><>v>>v<vvv><v^>vv<<<v<><>v><v>^<<><^^><<v><^^^>^><>^^v^^v>v>vv<<^<v^<>v^^v<>>v>vv>>^<>><<v><>^v>^<<>v^><v<v^^^<^v><^<^><^>vv^>>><^>>^>><v<^<v><^v<>v>vvv>>v<v<v<^vv^v^<>^>^>>><^^>>>>>v>v<vvv<>>v<><>>>^>v>^>v^v^>>^v<^>vv><>vv<vv>^>><<vv^>>vv>^^<v>>>><<<vv^^^<<>><^<>>^><<v>^v>>>><v<^^v<<<^v<vvvv<<^^^vv<v<v<>><^^^v>>v>^^><v^<>^>v>v>v^v^><^v^<>>^>v>>^><>>>v<>v<>^><>v<><v^><v<<^v<>v>v^>^^vv<^v<<^^<>>v<v><<^>v^>v>>>^<v>^>^><v^v^>^^><v<<<v^v<<vv^<v>^>v^<<v>^<^vv<v^>vv<>v>^<>^^<v>^<^>^vvv>v>^vvv>^<>^>^>vv^>vv^<v>v<<^<^>v>^><vvv>vvv<^v^vvv<v><vvv<v><v><><>^v^>>v><>v<^^><^>>v^<<>>v^^>>vvv>^vvv>v<^v^v>v^v^>v^^^vv<>v<>^<^><>^<v>^>v>>>^>v^<<v>vv>>v<^><^<>v^<<<^v>v>v>>v<><><<<v>vvvvvv^v^v>>>v<^<>>v><v^^^>v^<><<v<^><vv><>vv>^<^v>><^<^vv<<^>^>>vv<^^v^^^vv>>v>>^<<<v<^v<^<>v>vv>>v<vv>>v>^v^^>>>v<v^vv^v<>v>>><^vv<^>^><>^^>^v><v^^><^>><v^^v>>v^>v<vv><v<^<>^>v<<^<^>><v^<vv^>>v>>><^<<v>^<>v^<v>v>v>><><^<^>vv<^vv>>>^v<<<v<^^v>^^<^v^>^^v^<vv<^v^vvv>><<<<<v^>>^^v^vvvv^><<<>v<><<^vv><>^v^>vv<>>^^^vvv<^>><^v^<^vv>^^<^^v<v>vv>>v^^<^^>^vv<>^<>><<>^^v<<<<v^><v<<^^<^>^<v><^<<v<>v<<^^v^<>vvv<><>><<<>^v<>^^<v>>v<v^^^^^>^>v<^><<>^<v^<v>^><<^>>>^v<>^v^v><>vv>v^vv<<>^>>v<<^v<vv^<<v<<>>v<<^vv<^<>><<>^<>><v^<><vv^v>^>^^^>^^^^vv<<^<^<^<<<><><^^v<<^>v<v><>>><^vv>>><<>>>>v>v>>^v><vv><v<>>^v><vv<<>><>>^v><>>v<>vvv>>>v<>><>>vv^^^v>><^><^v>^^>v>^v>^><^<^>^v><^v>^<^v>^^>><>vv<><>>v<>^>^>^>>^v><v^>^v>>^^>v^<><>^<<^vv<^>v>>^v<v>^^><><v<^^<v^<^v<>^^<<>vv^<^^>^>^<v>^>v<>>>>^<^^v>vv<><>v<^><v<^^<<<^v>>^>v<v^^>>><<>vv><^^<v^^v<><^v<^>v^^<v<<<<vv>^^vv<^<^v<<<<><^><v^v>>vv<<v>v<^<v<<vv<v^^<<<><><><>^<^^v>v>>v^<>>^><v><^^<^^>><><v^<v<^><^<vvv>><^>^^vv^^vv<><><v^>v>><^>>>>^<><^>^<v^^>v>^>v^>^^^v>v^v<><^>>vv<^<^<^v><<<><vvv^v^><<^<><^^<<vvv<^v<^<<^<v<<><>v<v<<<<>^<>>v>>>vv>vv^v<<><^^^><v>>>^^v^>><^<<v>^<^v<<^<<>^>>vvv^^><<<vv>>>v<^v^^^^>>^^v<><>v^<>><^^>vv>>v^vvvv><<<^><<<^v<^^<v>v^^v>><vv^>>v>^<^^>>^>^<vvv><^<<><<^v^^<<v^<v^v<^<>vv<^^vv<<<v<^^>><<<<<>v>^v<v<<<>^vv><>>v<^>v>>^><v>^v^>>>^v^>v^v><>v><vv^^<v<^<<<v^^^<v>><vvvv<>^v<^v>><<^^>^>^^>^v^^^>^<v^v^>^^<^<<<>>^<v>vv^<^<<^<>^<<<<<v^^<<<><>>^<>^^^><>><v^>><><<>v^v>^v^v<^vvv><><v<><vv<^<v^<<v^<><><^v<<><<>v>^<v<v>vvv<v<v<>^^^^<><^<<^^v^>^<>^v>^v>^^>^^v^><v<>v<>><v<v><><<<<<v><<^^^^>^v>>vv^>v^><v^^<^<<><<<>>^<^vv>>vv<<v<^>vv^>>^vv<^^v>^<<v<<^>v>>>>v><<<<>^v<<<v<<^>>^v^^<v>v<v><<<>^v^<<v>v<><><v^^<^v>^v><v^v>v<^><^^v>>><>v^<^<<<^<><<<v<><<><v>>^<^v^><>v^<v>>vv^^<<^<>^<v><<^>^<><v<^v>^v>^^<^><^>v^vv<^<>v<v>^vv>>^<>>v<><^>>^<<>^>^v><^>^^<<^vv<>^<<v>><^>v^v^^v>^>^<<<<v^v<>^<>v>v<vv><vvv>^>^^vvv><^^v><<<<^^<>^^<<v<^>>^vvvv^<<<^vv^vv<^<v^<>>>>>vv<^^^<v>v<>>>^^^><<v<<<>>>^><>'"
            ]
          },
          "metadata": {
            "tags": []
          },
          "execution_count": 13
        }
      ]
    },
    {
      "cell_type": "code",
      "metadata": {
        "id": "Bn-AyuHp30xA"
      },
      "source": [
        "def visited_set(s):\n",
        "  houses = set()\n",
        "  for i in range(0, len(s)+1):\n",
        "    ss = s[0:i]\n",
        "    xy = loc(ss)\n",
        "    houses.add(xy)\n",
        "  return houses"
      ],
      "execution_count": null,
      "outputs": []
    },
    {
      "cell_type": "code",
      "metadata": {
        "colab": {
          "base_uri": "https://localhost:8080/"
        },
        "id": "l1Nga9Dq4KXQ",
        "outputId": "190baaab-25c3-4c19-b787-471333797110"
      },
      "source": [
        "def all_visits(input):\n",
        "  return len(visited_set(input[::2]) | visited_set(input[1::2]))\n",
        "\n",
        "print(all_visits(''))\n",
        "print(all_visits('^v'))\n",
        "print(all_visits('^>v<'))\n",
        "print(all_visits('^v^v^v^v^v'))"
      ],
      "execution_count": null,
      "outputs": [
        {
          "output_type": "stream",
          "text": [
            "1\n",
            "3\n",
            "3\n",
            "11\n"
          ],
          "name": "stdout"
        }
      ]
    },
    {
      "cell_type": "code",
      "metadata": {
        "colab": {
          "base_uri": "https://localhost:8080/"
        },
        "id": "dtUcJ_ec4vAp",
        "outputId": "01f2dcde-74e4-415d-c414-5af08aa49895"
      },
      "source": [
        "all_visits(input)"
      ],
      "execution_count": null,
      "outputs": [
        {
          "output_type": "execute_result",
          "data": {
            "text/plain": [
              "2639"
            ]
          },
          "metadata": {
            "tags": []
          },
          "execution_count": 17
        }
      ]
    },
    {
      "cell_type": "code",
      "metadata": {
        "id": "OOiE_8TB40Cy"
      },
      "source": [
        ""
      ],
      "execution_count": null,
      "outputs": []
    }
  ]
}