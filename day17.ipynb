{
  "nbformat": 4,
  "nbformat_minor": 0,
  "metadata": {
    "colab": {
      "name": "day17.ipynb",
      "provenance": [],
      "collapsed_sections": []
    },
    "kernelspec": {
      "name": "python3",
      "display_name": "Python 3"
    }
  },
  "cells": [
    {
      "cell_type": "markdown",
      "metadata": {
        "id": "clizEg3DPiT5"
      },
      "source": [
        "https://adventofcode.com/2015/day/17"
      ]
    },
    {
      "cell_type": "code",
      "metadata": {
        "id": "P0ZQk1jkPhyi"
      },
      "source": [
        "input = '''33\n",
        "14\n",
        "18\n",
        "20\n",
        "45\n",
        "35\n",
        "16\n",
        "35\n",
        "1\n",
        "13\n",
        "18\n",
        "13\n",
        "50\n",
        "44\n",
        "48\n",
        "6\n",
        "24\n",
        "41\n",
        "30\n",
        "42'''"
      ],
      "execution_count": null,
      "outputs": []
    },
    {
      "cell_type": "code",
      "metadata": {
        "id": "8G9PtXZCPkMU"
      },
      "source": [
        "liters = 150"
      ],
      "execution_count": null,
      "outputs": []
    },
    {
      "cell_type": "code",
      "metadata": {
        "colab": {
          "base_uri": "https://localhost:8080/"
        },
        "id": "zgp2U65xPzfJ",
        "outputId": "c3b3d728-4876-4fd8-dcab-38d85a43b5b5"
      },
      "source": [
        "container_sizes = list(map(int, input.split('\\n')))\n",
        "container_sizes"
      ],
      "execution_count": null,
      "outputs": [
        {
          "output_type": "execute_result",
          "data": {
            "text/plain": [
              "[33, 14, 18, 20, 45, 35, 16, 35, 1, 13, 18, 13, 50, 44, 48, 6, 24, 41, 30, 42]"
            ]
          },
          "metadata": {
            "tags": []
          },
          "execution_count": 4
        }
      ]
    },
    {
      "cell_type": "code",
      "metadata": {
        "id": "Z8CJYLF7P-x4"
      },
      "source": [
        "def ways_to_fill(liters, containers):\n",
        "  if liters < 0:\n",
        "    return 0\n",
        "  if containers == []:\n",
        "    return int(liters == 0)\n",
        "  h, t = containers[0], containers[1:]\n",
        "  return ways_to_fill(liters-h, t) + ways_to_fill(liters, t)"
      ],
      "execution_count": null,
      "outputs": []
    },
    {
      "cell_type": "code",
      "metadata": {
        "colab": {
          "base_uri": "https://localhost:8080/"
        },
        "id": "QhG0WihoRrpk",
        "outputId": "b269e1c1-5707-4e2d-af20-cddb47534e29"
      },
      "source": [
        "ways_to_fill(25, [20, 15, 10, 5, 5])"
      ],
      "execution_count": null,
      "outputs": [
        {
          "output_type": "execute_result",
          "data": {
            "text/plain": [
              "4"
            ]
          },
          "metadata": {
            "tags": []
          },
          "execution_count": 8
        }
      ]
    },
    {
      "cell_type": "code",
      "metadata": {
        "colab": {
          "base_uri": "https://localhost:8080/"
        },
        "id": "FSomcy6CQzC7",
        "outputId": "d07bd2fd-2753-45b0-c3d1-61b4f21ae7fd"
      },
      "source": [
        "ways_to_fill(liters, containers=container_sizes)"
      ],
      "execution_count": null,
      "outputs": [
        {
          "output_type": "execute_result",
          "data": {
            "text/plain": [
              "1304"
            ]
          },
          "metadata": {
            "tags": []
          },
          "execution_count": 7
        }
      ]
    },
    {
      "cell_type": "code",
      "metadata": {
        "id": "dnOh9VRvRlyA"
      },
      "source": [
        "def gen_ways_to_fill(liters, containers, already_selected=[]):\n",
        "  if liters < 0:\n",
        "    return\n",
        "  if containers == []:\n",
        "    if liters == 0:\n",
        "      yield already_selected\n",
        "    return\n",
        "  h, t = containers[0], containers[1:]\n",
        "  yield from gen_ways_to_fill(liters-h, t, already_selected=[*already_selected, h])\n",
        "  yield from gen_ways_to_fill(liters, t, already_selected=already_selected)"
      ],
      "execution_count": null,
      "outputs": []
    },
    {
      "cell_type": "code",
      "metadata": {
        "colab": {
          "base_uri": "https://localhost:8080/"
        },
        "id": "a8ZOdj4iTa7o",
        "outputId": "82f3e2a6-2858-47e2-b32f-19e4c0b3bba9"
      },
      "source": [
        "list(gen_ways_to_fill(25, [20, 15, 10, 5, 5]))"
      ],
      "execution_count": null,
      "outputs": [
        {
          "output_type": "execute_result",
          "data": {
            "text/plain": [
              "[[20, 5], [20, 5], [15, 10], [15, 5, 5]]"
            ]
          },
          "metadata": {
            "tags": []
          },
          "execution_count": 10
        }
      ]
    },
    {
      "cell_type": "code",
      "metadata": {
        "colab": {
          "base_uri": "https://localhost:8080/"
        },
        "id": "K2m9pg2tTfqn",
        "outputId": "0d9b94be-5711-41f8-c8c8-dbb6c93afdd1"
      },
      "source": [
        "sol_lens = list(map(len, gen_ways_to_fill(liters, containers=container_sizes)))\n",
        "min_sol_len = min(sol_lens)\n",
        "sum(sol_len == min_sol_len for sol_len in sol_lens)"
      ],
      "execution_count": null,
      "outputs": [
        {
          "output_type": "execute_result",
          "data": {
            "text/plain": [
              "18"
            ]
          },
          "metadata": {
            "tags": []
          },
          "execution_count": 13
        }
      ]
    },
    {
      "cell_type": "code",
      "metadata": {
        "colab": {
          "base_uri": "https://localhost:8080/"
        },
        "id": "I529fYzGTnmr",
        "outputId": "8ccba686-840f-41f7-bc8a-72fd5b7567ff"
      },
      "source": [
        "my_generator = gen_ways_to_fill(liters, containers=container_sizes)\n",
        "next(my_generator)"
      ],
      "execution_count": null,
      "outputs": [
        {
          "output_type": "execute_result",
          "data": {
            "text/plain": [
              "[33, 14, 18, 20, 45, 1, 13, 6]"
            ]
          },
          "metadata": {
            "tags": []
          },
          "execution_count": 14
        }
      ]
    },
    {
      "cell_type": "code",
      "metadata": {
        "colab": {
          "base_uri": "https://localhost:8080/"
        },
        "id": "awrm_fV8UY06",
        "outputId": "19d7235e-48b7-4d6d-9a47-417d2cd45768"
      },
      "source": [
        "next(my_generator)"
      ],
      "execution_count": null,
      "outputs": [
        {
          "output_type": "execute_result",
          "data": {
            "text/plain": [
              "[33, 14, 18, 20, 35, 6, 24]"
            ]
          },
          "metadata": {
            "tags": []
          },
          "execution_count": 18
        }
      ]
    },
    {
      "cell_type": "code",
      "metadata": {
        "id": "ZCYTc8UCUan6"
      },
      "source": [
        ""
      ],
      "execution_count": null,
      "outputs": []
    }
  ]
}