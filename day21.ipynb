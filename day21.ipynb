{
  "nbformat": 4,
  "nbformat_minor": 0,
  "metadata": {
    "colab": {
      "name": "day21.ipynb",
      "provenance": [],
      "collapsed_sections": []
    },
    "kernelspec": {
      "name": "python3",
      "display_name": "Python 3"
    }
  },
  "cells": [
    {
      "cell_type": "markdown",
      "metadata": {
        "id": "Ip-XL4U_AXa2"
      },
      "source": [
        "https://adventofcode.com/2015/day/21"
      ]
    },
    {
      "cell_type": "code",
      "metadata": {
        "id": "41X44Xn8ATHh"
      },
      "source": [
        "boss_stats = {\n",
        "    'Hit Points': 109,\n",
        "    'Damage': 8,\n",
        "    'Armor': 2\n",
        "}"
      ],
      "execution_count": null,
      "outputs": []
    },
    {
      "cell_type": "code",
      "metadata": {
        "id": "a39CDuJKAXwN"
      },
      "source": [
        "store_input = r'''Weapons:    Cost  Damage  Armor\n",
        "Dagger        8     4       0\n",
        "Shortsword   10     5       0\n",
        "Warhammer    25     6       0\n",
        "Longsword    40     7       0\n",
        "Greataxe     74     8       0\n",
        "\n",
        "Armor:      Cost  Damage  Armor\n",
        "Leather      13     0       1\n",
        "Chainmail    31     0       2\n",
        "Splintmail   53     0       3\n",
        "Bandedmail   75     0       4\n",
        "Platemail   102     0       5\n",
        "\n",
        "Rings:      Cost  Damage  Armor\n",
        "Damage +1    25     1       0\n",
        "Damage +2    50     2       0\n",
        "Damage +3   100     3       0\n",
        "Defense +1   20     0       1\n",
        "Defense +2   40     0       2\n",
        "Defense +3   80     0       3'''"
      ],
      "execution_count": null,
      "outputs": []
    },
    {
      "cell_type": "code",
      "metadata": {
        "colab": {
          "base_uri": "https://localhost:8080/"
        },
        "id": "ecEhSzaLBPi5",
        "outputId": "f215fc3c-f1fc-40f1-cb49-1c25d30f16be"
      },
      "source": [
        "import re\n",
        "\n",
        "store_re = re.compile(r'(?P<item>[a-zA-Z]+( \\+[0-9])?)( )+(?P<cost>[0-9]+)( )+(?P<dam>[0-9]+)( )+(?P<arm>[0-9]+)')\n",
        "\n",
        "store_dict = {}\n",
        "\n",
        "for block in store_input.split('\\n\\n'):\n",
        "  item_list = []\n",
        "  for lineno, line in enumerate(block.split('\\n')):\n",
        "    if lineno == 0:\n",
        "      cat = line.split(':')[0]\n",
        "    else:\n",
        "      mo = store_re.fullmatch(line)\n",
        "      assert mo is not None, line\n",
        "      item_list.append(mo.group('item', 'cost', 'dam', 'arm'))\n",
        "  store_dict[cat] = item_list\n",
        "\n",
        "store_dict"
      ],
      "execution_count": null,
      "outputs": [
        {
          "output_type": "execute_result",
          "data": {
            "text/plain": [
              "{'Armor': [('Leather', '13', '0', '1'),\n",
              "  ('Chainmail', '31', '0', '2'),\n",
              "  ('Splintmail', '53', '0', '3'),\n",
              "  ('Bandedmail', '75', '0', '4'),\n",
              "  ('Platemail', '102', '0', '5')],\n",
              " 'Rings': [('Damage +1', '25', '1', '0'),\n",
              "  ('Damage +2', '50', '2', '0'),\n",
              "  ('Damage +3', '100', '3', '0'),\n",
              "  ('Defense +1', '20', '0', '1'),\n",
              "  ('Defense +2', '40', '0', '2'),\n",
              "  ('Defense +3', '80', '0', '3')],\n",
              " 'Weapons': [('Dagger', '8', '4', '0'),\n",
              "  ('Shortsword', '10', '5', '0'),\n",
              "  ('Warhammer', '25', '6', '0'),\n",
              "  ('Longsword', '40', '7', '0'),\n",
              "  ('Greataxe', '74', '8', '0')]}"
            ]
          },
          "metadata": {
            "tags": []
          },
          "execution_count": 3
        }
      ]
    },
    {
      "cell_type": "code",
      "metadata": {
        "id": "72SGxUZAD0uJ"
      },
      "source": [
        "test_player_stats = {\n",
        "    'Hit Points': 8,\n",
        "    'Damage': 5,\n",
        "    'Armor': 5\n",
        "}\n",
        "\n",
        "test_boss_stats = {\n",
        "    'Hit Points': 12,\n",
        "    'Damage': 7,\n",
        "    'Armor': 2\n",
        "}"
      ],
      "execution_count": null,
      "outputs": []
    },
    {
      "cell_type": "code",
      "metadata": {
        "id": "1EhrnpTEDnPH"
      },
      "source": [
        "def p_win(player_stats, boss_stats):\n",
        "  p_hp = player_stats['Hit Points']\n",
        "  b_hp = boss_stats['Hit Points']\n",
        "  p_d = player_stats['Damage']\n",
        "  b_d = boss_stats['Damage']\n",
        "  p_a = player_stats['Armor']\n",
        "  b_a = boss_stats['Armor']\n",
        "\n",
        "  while p_hp > 0  and b_hp > 0:\n",
        "    b_hp -= max(1, p_d - b_a)\n",
        "    if b_hp<=0:\n",
        "      return True\n",
        "    p_hp -= max(1, b_d - p_a)\n",
        "    if p_hp<=0:\n",
        "      return False"
      ],
      "execution_count": null,
      "outputs": []
    },
    {
      "cell_type": "code",
      "metadata": {
        "colab": {
          "base_uri": "https://localhost:8080/"
        },
        "id": "zUCdGxFYCwDp",
        "outputId": "973f4773-8029-48c3-f98a-2be1b4b67cf5"
      },
      "source": [
        "p_win(test_player_stats, test_boss_stats)"
      ],
      "execution_count": null,
      "outputs": [
        {
          "output_type": "execute_result",
          "data": {
            "text/plain": [
              "True"
            ]
          },
          "metadata": {
            "tags": []
          },
          "execution_count": 6
        }
      ]
    },
    {
      "cell_type": "code",
      "metadata": {
        "id": "3ApDlY-cFtzc"
      },
      "source": [
        "money = 100\n",
        "\n",
        "baseline_stats = {\n",
        "    'Armor': 0,\n",
        "    'Damage': 0,\n",
        "    'Hit Points': 100\n",
        "}\n",
        "\n",
        "def apply_items(item_list, stats):\n",
        "  stats = stats.copy()\n",
        "  for item in item_list:\n",
        "    stats['Armor'] += int(item[3])\n",
        "    stats['Damage'] += int(item[2])\n",
        "  return stats"
      ],
      "execution_count": null,
      "outputs": []
    },
    {
      "cell_type": "code",
      "metadata": {
        "id": "yeA3YQvLGtvS"
      },
      "source": [
        "from itertools import *\n",
        "\n",
        "def generates_baskets(store_dict):\n",
        "  for w in store_dict['Weapons']:\n",
        "    for a in [*store_dict['Armor'], ('none', 0, 0, 0)]:\n",
        "      for ring_no in (0, 1, 2):\n",
        "        ring_combos = combinations(store_dict['Rings'], ring_no)\n",
        "        for ring_combo in ring_combos:\n",
        "          yield [w, a, *ring_combo]\n",
        "\n",
        "list(generates_baskets(store_dict))"
      ],
      "execution_count": null,
      "outputs": []
    },
    {
      "cell_type": "code",
      "metadata": {
        "id": "gF54WhjpIi00"
      },
      "source": [
        "def basket_cost(bask):\n",
        "  cost = 0\n",
        "  for i in bask:\n",
        "    cost += int(i[1])\n",
        "  return cost"
      ],
      "execution_count": null,
      "outputs": []
    },
    {
      "cell_type": "code",
      "metadata": {
        "id": "xTFrjOcxIuRw"
      },
      "source": [
        "x = list(generates_baskets(store_dict))\n",
        "\n",
        "x.sort(key=basket_cost)\n",
        "\n",
        "x"
      ],
      "execution_count": null,
      "outputs": []
    },
    {
      "cell_type": "code",
      "metadata": {
        "colab": {
          "base_uri": "https://localhost:8080/"
        },
        "id": "_Mk2rgojJHAO",
        "outputId": "659cc419-fd36-461a-8d6b-28c7bd32d7c4"
      },
      "source": [
        "from tqdm import tqdm\n",
        "\n",
        "for bask in x:\n",
        "  stats = apply_items(bask, baseline_stats)\n",
        "  if p_win(stats, boss_stats):\n",
        "    print(basket_cost(bask))\n",
        "    break"
      ],
      "execution_count": null,
      "outputs": [
        {
          "output_type": "stream",
          "text": [
            "111\n"
          ],
          "name": "stdout"
        }
      ]
    },
    {
      "cell_type": "code",
      "metadata": {
        "colab": {
          "base_uri": "https://localhost:8080/"
        },
        "id": "HlDEVp1KJeo6",
        "outputId": "6344e708-1e67-4fff-8879-6563651fa628"
      },
      "source": [
        "bask = x[-1]\n",
        "bask\n",
        "stats = apply_items(bask, baseline_stats)\n",
        "stats\n",
        "p_win(stats, boss_stats)"
      ],
      "execution_count": null,
      "outputs": [
        {
          "output_type": "execute_result",
          "data": {
            "text/plain": [
              "True"
            ]
          },
          "metadata": {
            "tags": []
          },
          "execution_count": 12
        }
      ]
    },
    {
      "cell_type": "code",
      "metadata": {
        "colab": {
          "base_uri": "https://localhost:8080/"
        },
        "id": "Oe9dliNGLLFj",
        "outputId": "85e4afaf-d84e-481f-eb2c-ae4cbf273ba0"
      },
      "source": [
        "basket_cost(x[0])"
      ],
      "execution_count": null,
      "outputs": [
        {
          "output_type": "execute_result",
          "data": {
            "text/plain": [
              "8"
            ]
          },
          "metadata": {
            "tags": []
          },
          "execution_count": 13
        }
      ]
    },
    {
      "cell_type": "code",
      "metadata": {
        "colab": {
          "base_uri": "https://localhost:8080/"
        },
        "id": "wGZNu0grLZgt",
        "outputId": "629edd6e-1db5-43fe-b0aa-aff6f2bd6701"
      },
      "source": [
        "x.sort(key=basket_cost, reverse=True)\n",
        "\n",
        "for bask in x:\n",
        "  stats = apply_items(bask, baseline_stats)\n",
        "  if not p_win(stats, boss_stats):\n",
        "    print(basket_cost(bask))\n",
        "    break"
      ],
      "execution_count": null,
      "outputs": [
        {
          "output_type": "stream",
          "text": [
            "188\n"
          ],
          "name": "stdout"
        }
      ]
    }
  ]
}