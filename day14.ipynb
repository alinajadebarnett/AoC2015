{
  "nbformat": 4,
  "nbformat_minor": 0,
  "metadata": {
    "colab": {
      "name": "day14.ipynb",
      "provenance": [],
      "collapsed_sections": []
    },
    "kernelspec": {
      "name": "python3",
      "display_name": "Python 3"
    }
  },
  "cells": [
    {
      "cell_type": "markdown",
      "metadata": {
        "id": "D8unFLas1R4c"
      },
      "source": [
        "https://adventofcode.com/2015/day/14"
      ]
    },
    {
      "cell_type": "code",
      "metadata": {
        "id": "TwnKj8z21Ti5"
      },
      "source": [
        "reindeer_data = r'''Rudolph can fly 22 km/s for 8 seconds, but then must rest for 165 seconds.\n",
        "Cupid can fly 8 km/s for 17 seconds, but then must rest for 114 seconds.\n",
        "Prancer can fly 18 km/s for 6 seconds, but then must rest for 103 seconds.\n",
        "Donner can fly 25 km/s for 6 seconds, but then must rest for 145 seconds.\n",
        "Dasher can fly 11 km/s for 12 seconds, but then must rest for 125 seconds.\n",
        "Comet can fly 21 km/s for 6 seconds, but then must rest for 121 seconds.\n",
        "Blitzen can fly 18 km/s for 3 seconds, but then must rest for 50 seconds.\n",
        "Vixen can fly 20 km/s for 4 seconds, but then must rest for 75 seconds.\n",
        "Dancer can fly 7 km/s for 20 seconds, but then must rest for 119 seconds.'''"
      ],
      "execution_count": 41,
      "outputs": []
    },
    {
      "cell_type": "code",
      "metadata": {
        "id": "iPz5b7u71ZPV"
      },
      "source": [
        "reindeer_test_data = r'''Comet can fly 14 km/s for 10 seconds, but then must rest for 127 seconds.\n",
        "Dancer can fly 16 km/s for 11 seconds, but then must rest for 162 seconds.'''"
      ],
      "execution_count": 42,
      "outputs": []
    },
    {
      "cell_type": "code",
      "metadata": {
        "id": "Qn1De8hq1g_8"
      },
      "source": [
        "import re\n",
        "\n",
        "rdex = re.compile(r'(?P<name>[A-Za-z]+) can fly (?P<run_speed>[0-9]+) km/s for (?P<run_time>[0-9]+) seconds, but then must rest for (?P<rest_time>[0-9]+) seconds.')"
      ],
      "execution_count": 43,
      "outputs": []
    },
    {
      "cell_type": "code",
      "metadata": {
        "id": "KLhHjzfh2c6D"
      },
      "source": [
        "def get_data_table(input):\n",
        "  rein_dict = dict()\n",
        "  for line in input.split('\\n'):\n",
        "    mo = rdex.fullmatch(line)\n",
        "    rein_dict[mo.group(1)] = list(map(int, mo.group(2,3,4)))\n",
        "  return rein_dict"
      ],
      "execution_count": 44,
      "outputs": []
    },
    {
      "cell_type": "code",
      "metadata": {
        "colab": {
          "base_uri": "https://localhost:8080/"
        },
        "id": "svG48KCv3B5a",
        "outputId": "4ecb9210-e63b-488c-9546-4765b61baba9"
      },
      "source": [
        "get_data_table(reindeer_test_data)"
      ],
      "execution_count": 45,
      "outputs": [
        {
          "output_type": "execute_result",
          "data": {
            "text/plain": [
              "{'Comet': [14, 10, 127], 'Dancer': [16, 11, 162]}"
            ]
          },
          "metadata": {
            "tags": []
          },
          "execution_count": 45
        }
      ]
    },
    {
      "cell_type": "code",
      "metadata": {
        "id": "nEweBpSm38nS"
      },
      "source": [
        "import numpy as np\n",
        "\n",
        "def position(time, rein_name, rein_dict):\n",
        "  dist = 0\n",
        "  run_speed, run_time, rest_time = rein_dict[rein_name]\n",
        "  full_cycles = int(np.floor(time / (run_time + rest_time)))\n",
        "  dist += run_time * run_speed * full_cycles\n",
        "  time_left = time - full_cycles * (run_time + rest_time)\n",
        "  dist += min(run_time, time_left) * run_speed\n",
        "  return dist"
      ],
      "execution_count": 50,
      "outputs": []
    },
    {
      "cell_type": "code",
      "metadata": {
        "colab": {
          "base_uri": "https://localhost:8080/"
        },
        "id": "v5SNHo5u5YG0",
        "outputId": "6dbcd5cc-284f-4627-ce42-1064b7e4f5be"
      },
      "source": [
        "print(position(1000, 'Comet', get_data_table(reindeer_test_data)))\n",
        "print(position(1000, 'Dancer', get_data_table(reindeer_test_data)))"
      ],
      "execution_count": 51,
      "outputs": [
        {
          "output_type": "stream",
          "text": [
            "1120\n",
            "1056\n"
          ],
          "name": "stdout"
        }
      ]
    },
    {
      "cell_type": "code",
      "metadata": {
        "colab": {
          "base_uri": "https://localhost:8080/"
        },
        "id": "xp9QePtP6hSS",
        "outputId": "9b22e0d2-68d1-473f-f852-7666cf809436"
      },
      "source": [
        "def winning_dist(time, rein_dict):\n",
        "  best_dist = -np.inf\n",
        "  for k, v in rein_dict.items():\n",
        "    dist = position(time, k, rein_dict)\n",
        "    if dist > best_dist:\n",
        "      best_dist = dist\n",
        "  return best_dist\n",
        "\n",
        "winning_dist(1000, get_data_table(reindeer_test_data))"
      ],
      "execution_count": 52,
      "outputs": [
        {
          "output_type": "execute_result",
          "data": {
            "text/plain": [
              "1120"
            ]
          },
          "metadata": {
            "tags": []
          },
          "execution_count": 52
        }
      ]
    },
    {
      "cell_type": "code",
      "metadata": {
        "colab": {
          "base_uri": "https://localhost:8080/"
        },
        "id": "mHy56CcP7WQv",
        "outputId": "0a64c052-787b-4f63-afc0-de400158eaf5"
      },
      "source": [
        "winning_dist(2503, get_data_table(reindeer_data))"
      ],
      "execution_count": 53,
      "outputs": [
        {
          "output_type": "execute_result",
          "data": {
            "text/plain": [
              "2696"
            ]
          },
          "metadata": {
            "tags": []
          },
          "execution_count": 53
        }
      ]
    },
    {
      "cell_type": "code",
      "metadata": {
        "colab": {
          "base_uri": "https://localhost:8080/"
        },
        "id": "w8u54MOn78YC",
        "outputId": "75873ca1-a888-4239-9333-f3fb59a76554"
      },
      "source": [
        "def winner(time, rein_dict):\n",
        "  rein_points = dict()\n",
        "  for k, v in rein_dict.items():\n",
        "      rein_points[k] = 0\n",
        "  for t in range(1,time+1):\n",
        "    rein_locs = dict()\n",
        "    for k, v in rein_dict.items():\n",
        "      dist = position(t, k, rein_dict)\n",
        "      rein_locs[k] = dist\n",
        "    best_loc = max(rein_locs.values())\n",
        "    for k, v in rein_locs.items():\n",
        "      if rein_locs[k] == best_loc:\n",
        "        rein_points[k] += 1\n",
        "  winner = max(rein_points, key=rein_points.get)\n",
        "  winning_points = max(rein_points.values())\n",
        "  return winner, winning_points\n",
        "\n",
        "winner(1000, get_data_table(reindeer_test_data))"
      ],
      "execution_count": 56,
      "outputs": [
        {
          "output_type": "execute_result",
          "data": {
            "text/plain": [
              "('Dancer', 689)"
            ]
          },
          "metadata": {
            "tags": []
          },
          "execution_count": 56
        }
      ]
    },
    {
      "cell_type": "code",
      "metadata": {
        "colab": {
          "base_uri": "https://localhost:8080/"
        },
        "id": "ojZ9Pxis-qOs",
        "outputId": "5a65d88f-4815-49b0-c384-247cdd55b9ff"
      },
      "source": [
        "winner(2503, get_data_table(reindeer_data))"
      ],
      "execution_count": 57,
      "outputs": [
        {
          "output_type": "execute_result",
          "data": {
            "text/plain": [
              "('Rudolph', 1084)"
            ]
          },
          "metadata": {
            "tags": []
          },
          "execution_count": 57
        }
      ]
    }
  ]
}