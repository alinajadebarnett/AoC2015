{
  "nbformat": 4,
  "nbformat_minor": 0,
  "metadata": {
    "colab": {
      "name": "day15.ipynb",
      "provenance": [],
      "collapsed_sections": []
    },
    "kernelspec": {
      "name": "python3",
      "display_name": "Python 3"
    }
  },
  "cells": [
    {
      "cell_type": "markdown",
      "metadata": {
        "id": "bxP169GY_EV3"
      },
      "source": [
        "https://adventofcode.com/2015/day/15"
      ]
    },
    {
      "cell_type": "code",
      "metadata": {
        "id": "zh2NZ1E9_D0j"
      },
      "source": [
        "input = r'''Sprinkles: capacity 5, durability -1, flavor 0, texture 0, calories 5\n",
        "PeanutButter: capacity -1, durability 3, flavor 0, texture 0, calories 1\n",
        "Frosting: capacity 0, durability -1, flavor 4, texture 0, calories 6\n",
        "Sugar: capacity -1, durability 0, flavor 0, texture 2, calories 8'''"
      ],
      "execution_count": null,
      "outputs": []
    },
    {
      "cell_type": "code",
      "metadata": {
        "id": "wRmhDPPf9NUY"
      },
      "source": [
        "test_input = r'''Butterscotch: capacity -1, durability -2, flavor 6, texture 3, calories 8\n",
        "Cinnamon: capacity 2, durability 3, flavor -2, texture -1, calories 3'''"
      ],
      "execution_count": null,
      "outputs": []
    },
    {
      "cell_type": "code",
      "metadata": {
        "id": "vYTmU0Oh_ZWQ"
      },
      "source": [
        "import re\n",
        "\n",
        "regex = re.compile(r'(?P<ing>[A-Za-z]+): capacity (?P<cap>-?[0-9]), durability (?P<dur>-?[0-9]), flavor (?P<fla>-?[0-9]), texture (?P<tex>-?[0-9]), calories (?P<cal>-?[0-9])')"
      ],
      "execution_count": null,
      "outputs": []
    },
    {
      "cell_type": "code",
      "metadata": {
        "id": "EEBKcpy1AJj0"
      },
      "source": [
        "import pandas as pd\n",
        "\n",
        "def get_stats(input):\n",
        "  df = pd.DataFrame(columns=['capacity', 'durability', 'flavor', 'texture', 'calories'])\n",
        "\n",
        "  for line in input.split('\\n'):\n",
        "    mo = regex.fullmatch(line)\n",
        "    assert mo is not None\n",
        "    df.loc[mo.group('ing')] = {a: int(b) for a, b in zip(('capacity', 'durability', 'flavor', 'texture', 'calories'), mo.group('cap', 'dur', 'fla', 'tex', 'cal'))}\n",
        "\n",
        "  return df"
      ],
      "execution_count": null,
      "outputs": []
    },
    {
      "cell_type": "code",
      "metadata": {
        "colab": {
          "base_uri": "https://localhost:8080/",
          "height": 173
        },
        "id": "s5NQ6xbt8ZuG",
        "outputId": "24723f05-2c51-46ea-d3b6-8679370edd88"
      },
      "source": [
        "get_stats(input)"
      ],
      "execution_count": null,
      "outputs": [
        {
          "output_type": "execute_result",
          "data": {
            "text/html": [
              "<div>\n",
              "<style scoped>\n",
              "    .dataframe tbody tr th:only-of-type {\n",
              "        vertical-align: middle;\n",
              "    }\n",
              "\n",
              "    .dataframe tbody tr th {\n",
              "        vertical-align: top;\n",
              "    }\n",
              "\n",
              "    .dataframe thead th {\n",
              "        text-align: right;\n",
              "    }\n",
              "</style>\n",
              "<table border=\"1\" class=\"dataframe\">\n",
              "  <thead>\n",
              "    <tr style=\"text-align: right;\">\n",
              "      <th></th>\n",
              "      <th>capacity</th>\n",
              "      <th>durability</th>\n",
              "      <th>flavor</th>\n",
              "      <th>texture</th>\n",
              "      <th>calories</th>\n",
              "    </tr>\n",
              "  </thead>\n",
              "  <tbody>\n",
              "    <tr>\n",
              "      <th>Sprinkles</th>\n",
              "      <td>5</td>\n",
              "      <td>-1</td>\n",
              "      <td>0</td>\n",
              "      <td>0</td>\n",
              "      <td>5</td>\n",
              "    </tr>\n",
              "    <tr>\n",
              "      <th>PeanutButter</th>\n",
              "      <td>-1</td>\n",
              "      <td>3</td>\n",
              "      <td>0</td>\n",
              "      <td>0</td>\n",
              "      <td>1</td>\n",
              "    </tr>\n",
              "    <tr>\n",
              "      <th>Frosting</th>\n",
              "      <td>0</td>\n",
              "      <td>-1</td>\n",
              "      <td>4</td>\n",
              "      <td>0</td>\n",
              "      <td>6</td>\n",
              "    </tr>\n",
              "    <tr>\n",
              "      <th>Sugar</th>\n",
              "      <td>-1</td>\n",
              "      <td>0</td>\n",
              "      <td>0</td>\n",
              "      <td>2</td>\n",
              "      <td>8</td>\n",
              "    </tr>\n",
              "  </tbody>\n",
              "</table>\n",
              "</div>"
            ],
            "text/plain": [
              "             capacity durability flavor texture calories\n",
              "Sprinkles           5         -1      0       0        5\n",
              "PeanutButter       -1          3      0       0        1\n",
              "Frosting            0         -1      4       0        6\n",
              "Sugar              -1          0      0       2        8"
            ]
          },
          "metadata": {
            "tags": []
          },
          "execution_count": 28
        }
      ]
    },
    {
      "cell_type": "code",
      "metadata": {
        "colab": {
          "base_uri": "https://localhost:8080/",
          "height": 111
        },
        "id": "QBtj6uS9BSpf",
        "outputId": "7c9bf6cb-46ac-473a-efa7-f06d7d10f783"
      },
      "source": [
        "get_stats(test_input)"
      ],
      "execution_count": null,
      "outputs": [
        {
          "output_type": "execute_result",
          "data": {
            "text/html": [
              "<div>\n",
              "<style scoped>\n",
              "    .dataframe tbody tr th:only-of-type {\n",
              "        vertical-align: middle;\n",
              "    }\n",
              "\n",
              "    .dataframe tbody tr th {\n",
              "        vertical-align: top;\n",
              "    }\n",
              "\n",
              "    .dataframe thead th {\n",
              "        text-align: right;\n",
              "    }\n",
              "</style>\n",
              "<table border=\"1\" class=\"dataframe\">\n",
              "  <thead>\n",
              "    <tr style=\"text-align: right;\">\n",
              "      <th></th>\n",
              "      <th>capacity</th>\n",
              "      <th>durability</th>\n",
              "      <th>flavor</th>\n",
              "      <th>texture</th>\n",
              "      <th>calories</th>\n",
              "    </tr>\n",
              "  </thead>\n",
              "  <tbody>\n",
              "    <tr>\n",
              "      <th>Butterscotch</th>\n",
              "      <td>-1</td>\n",
              "      <td>-2</td>\n",
              "      <td>6</td>\n",
              "      <td>3</td>\n",
              "      <td>8</td>\n",
              "    </tr>\n",
              "    <tr>\n",
              "      <th>Cinnamon</th>\n",
              "      <td>2</td>\n",
              "      <td>3</td>\n",
              "      <td>-2</td>\n",
              "      <td>-1</td>\n",
              "      <td>3</td>\n",
              "    </tr>\n",
              "  </tbody>\n",
              "</table>\n",
              "</div>"
            ],
            "text/plain": [
              "             capacity durability flavor texture calories\n",
              "Butterscotch       -1         -2      6       3        8\n",
              "Cinnamon            2          3     -2      -1        3"
            ]
          },
          "metadata": {
            "tags": []
          },
          "execution_count": 49
        }
      ]
    },
    {
      "cell_type": "code",
      "metadata": {
        "id": "tw0KnWtkA4HK",
        "colab": {
          "base_uri": "https://localhost:8080/"
        },
        "outputId": "77fdd6ee-4b7f-4f5e-b1ff-1e28396496bf"
      },
      "source": [
        "import numpy as np\n",
        "\n",
        "def score(ingredient_stats, amounts):\n",
        "  '''\n",
        "  amounts is a list with length equal to number of ingredients\n",
        "  '''\n",
        "  df = ingredient_stats.drop(columns='calories')\n",
        "  df = df.mul(amounts, axis=0)\n",
        "  s = np.maximum(0, df.sum(axis=0))\n",
        "  return s.product()\n",
        "\n",
        "print(score(get_stats(input), [1,1,1,1]))\n",
        "score(get_stats(test_input), [44,56])"
      ],
      "execution_count": null,
      "outputs": [
        {
          "output_type": "stream",
          "text": [
            "24.0\n"
          ],
          "name": "stdout"
        },
        {
          "output_type": "execute_result",
          "data": {
            "text/plain": [
              "62842880.0"
            ]
          },
          "metadata": {
            "tags": []
          },
          "execution_count": 53
        }
      ]
    },
    {
      "cell_type": "code",
      "metadata": {
        "id": "PpXx-5K39ijP"
      },
      "source": [
        "def amounts_lists_4(total):\n",
        "  '''for number of ingredients = 4'''\n",
        "  amountss = []\n",
        "  for a in range(0, total+1):\n",
        "    for b in range(0, total+1-a):\n",
        "      for c in range(0, total+1-a-b):\n",
        "        d = total - a - b - c\n",
        "        amountss.append([a,b,c,d])\n",
        "  return amountss"
      ],
      "execution_count": null,
      "outputs": []
    },
    {
      "cell_type": "code",
      "metadata": {
        "id": "nnDwV7RwAra6"
      },
      "source": [
        "def amounts_lists_2(total):\n",
        "  '''for number of ingredients = 2'''\n",
        "  amountss = []\n",
        "  for a in range(0, total+1):\n",
        "    amountss.append([a,total-a])\n",
        "  return amountss"
      ],
      "execution_count": null,
      "outputs": []
    },
    {
      "cell_type": "code",
      "metadata": {
        "colab": {
          "base_uri": "https://localhost:8080/"
        },
        "id": "A_17ixGSB4NO",
        "outputId": "53153d2f-293e-4b46-80aa-fc35451421d9"
      },
      "source": [
        "from tqdm import tqdm\n",
        "\n",
        "stat = get_stats(input)\n",
        "scores = [score(stat, amount) for amount in tqdm(amounts_lists_4(100))]\n",
        "max(scores)"
      ],
      "execution_count": null,
      "outputs": [
        {
          "output_type": "stream",
          "text": [
            "100%|██████████| 176851/176851 [05:23<00:00, 547.42it/s]\n"
          ],
          "name": "stderr"
        },
        {
          "output_type": "execute_result",
          "data": {
            "text/plain": [
              "13882464.0"
            ]
          },
          "metadata": {
            "tags": []
          },
          "execution_count": 59
        }
      ]
    },
    {
      "cell_type": "code",
      "metadata": {
        "colab": {
          "base_uri": "https://localhost:8080/"
        },
        "id": "ySLqGE4lA96n",
        "outputId": "d1616c11-f2c4-49b5-9cd7-03b26a76eccf"
      },
      "source": [
        "len(amounts_lists_4(100))"
      ],
      "execution_count": null,
      "outputs": [
        {
          "output_type": "execute_result",
          "data": {
            "text/plain": [
              "176851"
            ]
          },
          "metadata": {
            "tags": []
          },
          "execution_count": 60
        }
      ]
    },
    {
      "cell_type": "code",
      "metadata": {
        "colab": {
          "base_uri": "https://localhost:8080/"
        },
        "id": "6e6XzYrvED7L",
        "outputId": "47a4dbf7-8f3e-418e-8063-ec4c879a1eda"
      },
      "source": [
        "df1 = stat[\"calories\"].mul([1,1,1,1], axis=0).sum()\n",
        "df1"
      ],
      "execution_count": null,
      "outputs": [
        {
          "output_type": "execute_result",
          "data": {
            "text/plain": [
              "20"
            ]
          },
          "metadata": {
            "tags": []
          },
          "execution_count": 65
        }
      ]
    },
    {
      "cell_type": "code",
      "metadata": {
        "colab": {
          "base_uri": "https://localhost:8080/"
        },
        "id": "-dEhhh8jDOD_",
        "outputId": "b784d8ef-9cff-4fda-94f4-65c8c1a93e1e"
      },
      "source": [
        "def score2(ingredient_stats, amounts):\n",
        "  '''\n",
        "  amounts is a list with length equal to number of ingredients\n",
        "  '''\n",
        "  cals = ingredient_stats[\"calories\"].mul(amounts, axis=0).sum()\n",
        "  if cals!=500:\n",
        "    return 0\n",
        "  df = ingredient_stats.drop(columns='calories')\n",
        "  df = df.mul(amounts, axis=0)\n",
        "  s = np.maximum(0, df.sum(axis=0))\n",
        "  return s.product()\n",
        "\n",
        "print(score2(get_stats(input), [1,1,1,1]))\n",
        "score2(get_stats(test_input), [40,60])"
      ],
      "execution_count": null,
      "outputs": [
        {
          "output_type": "stream",
          "text": [
            "0\n"
          ],
          "name": "stdout"
        },
        {
          "output_type": "execute_result",
          "data": {
            "text/plain": [
              "57600000.0"
            ]
          },
          "metadata": {
            "tags": []
          },
          "execution_count": 67
        }
      ]
    },
    {
      "cell_type": "code",
      "metadata": {
        "colab": {
          "base_uri": "https://localhost:8080/"
        },
        "id": "kCkpSBaEED5m",
        "outputId": "d78f04ba-6081-4883-ea20-132cf242a54f"
      },
      "source": [
        "stat = get_stats(test_input)\n",
        "scores = [score2(stat, amount) for amount in tqdm(amounts_lists_2(100))]\n",
        "max(scores)"
      ],
      "execution_count": null,
      "outputs": [
        {
          "output_type": "stream",
          "text": [
            "\n",
            "100%|██████████| 101/101 [00:00<00:00, 2042.62it/s]\n"
          ],
          "name": "stderr"
        },
        {
          "output_type": "execute_result",
          "data": {
            "text/plain": [
              "57600000.0"
            ]
          },
          "metadata": {
            "tags": []
          },
          "execution_count": 69
        }
      ]
    },
    {
      "cell_type": "code",
      "metadata": {
        "id": "HtamozkSEuox",
        "colab": {
          "base_uri": "https://localhost:8080/"
        },
        "outputId": "18551de2-c7fa-4b85-e056-927e13cdcc6d"
      },
      "source": [
        "stat = get_stats(input)\n",
        "scores = [score2(stat, amount) for amount in tqdm(amounts_lists_4(100), position=0, leave=True)]\n",
        "max(scores)"
      ],
      "execution_count": null,
      "outputs": [
        {
          "output_type": "stream",
          "text": [
            "100%|█████████▉| 176785/176851 [01:21<00:00, 2088.24it/s]\n",
            "\u001b[A\n",
            "\n",
            "100%|██████████| 176851/176851 [01:21<00:00, 2175.08it/s]\n"
          ],
          "name": "stderr"
        },
        {
          "output_type": "execute_result",
          "data": {
            "text/plain": [
              "11171160.0"
            ]
          },
          "metadata": {
            "tags": []
          },
          "execution_count": 83
        }
      ]
    }
  ]
}