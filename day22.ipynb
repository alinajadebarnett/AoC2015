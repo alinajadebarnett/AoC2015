{
  "nbformat": 4,
  "nbformat_minor": 0,
  "metadata": {
    "colab": {
      "name": "day22.ipynb",
      "provenance": [],
      "collapsed_sections": []
    },
    "kernelspec": {
      "name": "python3",
      "display_name": "Python 3"
    }
  },
  "cells": [
    {
      "cell_type": "markdown",
      "metadata": {
        "id": "5FZEPe52PH2t"
      },
      "source": [
        "https://adventofcode.com/2015/day/22"
      ]
    },
    {
      "cell_type": "code",
      "metadata": {
        "id": "72SGxUZAD0uJ"
      },
      "source": [
        "test_player_stats = {\n",
        "    'Hit Points': 10,\n",
        "    'Mana': 250,\n",
        "    'Armor': 0\n",
        "}\n",
        "\n",
        "test_boss_stats = {\n",
        "    'Hit Points': 13,\n",
        "    'Damage': 8\n",
        "}"
      ],
      "execution_count": null,
      "outputs": []
    },
    {
      "cell_type": "code",
      "metadata": {
        "id": "5fAgI4BdPMsN"
      },
      "source": [
        "player_stats = {\n",
        "    'Hit Points': 50,\n",
        "    'Armor': 0,\n",
        "    'Mana': 500\n",
        "}\n",
        "\n",
        "boss_stats = {\n",
        "    'Hit Points': 55,\n",
        "    'Damage': 8}"
      ],
      "execution_count": null,
      "outputs": []
    },
    {
      "cell_type": "code",
      "metadata": {
        "id": "ZATnntoIY9aW"
      },
      "source": [
        "spell_book = r'''Magic Missile costs 53 mana. It instantly does 4 damage.\n",
        "Drain costs 73 mana. It instantly does 2 damage and heals you for 2 hit points.\n",
        "Shield costs 113 mana. It starts an effect that lasts for 6 turns. While it is active, your armor is increased by 7.\n",
        "Poison costs 173 mana. It starts an effect that lasts for 6 turns. At the start of each turn while it is active, it deals the boss 3 damage.\n",
        "Recharge costs 229 mana. It starts an effect that lasts for 5 turns. At the start of each turn while it is active, it gives you 101 new mana.'''"
      ],
      "execution_count": null,
      "outputs": []
    },
    {
      "cell_type": "code",
      "metadata": {
        "id": "5NURqUOWZds9"
      },
      "source": [
        "import re\n",
        "\n",
        "regex = re.compile('(?P<spell_name>[A-Za-z]+? ?[A-Za-z]+) costs (?P<cost>[0-9]+) mana.*')\n",
        "regex2 = re.compile('(?P<spell_name>[A-Za-z]+) costs (?P<cost>[0-9]+) mana. It starts an effect that lasts for (?P<len>[0-9]+) turns.*(?P<size>[0-9]+)[^0-9].*')"
      ],
      "execution_count": null,
      "outputs": []
    },
    {
      "cell_type": "code",
      "metadata": {
        "colab": {
          "base_uri": "https://localhost:8080/"
        },
        "id": "ruDROP-RbU9q",
        "outputId": "b8cfafc2-3c94-4fb1-fcc8-8d391e654a7c"
      },
      "source": [
        "spell_dict = dict()\n",
        "\n",
        "for lineno, line in enumerate(spell_book.split('\\n')):\n",
        "  if lineno < 2:\n",
        "     name, cost = regex.fullmatch(line).group(1, 2)\n",
        "     spell_dict[name] = [cost]\n",
        "  else:\n",
        "    name, cost, len, size = regex2.fullmatch(line).group(1, 2, 3, 4)\n",
        "    print(spell_dict)\n",
        "    spell_dict[name] = [cost, len, size]\n",
        "\n",
        "spell_dict"
      ],
      "execution_count": null,
      "outputs": [
        {
          "output_type": "stream",
          "text": [
            "{'Magic Missile': ['53'], 'Drain': ['73']}\n",
            "{'Magic Missile': ['53'], 'Drain': ['73'], 'Shield': ['113', '6', '7']}\n",
            "{'Magic Missile': ['53'], 'Drain': ['73'], 'Shield': ['113', '6', '7'], 'Poison': ['173', '6', '3']}\n"
          ],
          "name": "stdout"
        },
        {
          "output_type": "execute_result",
          "data": {
            "text/plain": [
              "{'Drain': ['73'],\n",
              " 'Magic Missile': ['53'],\n",
              " 'Poison': ['173', '6', '3'],\n",
              " 'Recharge': ['229', '5', '1'],\n",
              " 'Shield': ['113', '6', '7']}"
            ]
          },
          "metadata": {
            "tags": []
          },
          "execution_count": 98
        }
      ]
    },
    {
      "cell_type": "code",
      "metadata": {
        "id": "fys5xjf_I8bZ"
      },
      "source": [
        "import copy\n",
        "\n",
        "class GameState:\n",
        "\n",
        "  def __init__(self, p_stats, b_stats):\n",
        "    self.p_stats = copy.deepcopy(p_stats)\n",
        "    self.b_stats = copy.deepcopy(b_stats)\n",
        "    self.p = 0 # effects booleans\n",
        "    self.r = 0\n",
        "    self.s = 0\n",
        "    self.total_mana_spent = 0\n",
        "    self.winner = None\n",
        "    self.log = \"\\n-- Player turn --\\n\"\n",
        "    \n",
        "    self.log += \"- Player stats: \" + str(self.p_stats) + \"\\n\"\n",
        "    self.log += f\"- Boss has {self.b_stats['Hit Points']} hit points\\n\"\n",
        "\n",
        "  def cast_spell(self, spell):\n",
        "    if self.winner is None:\n",
        "      self.log += f\"Player casts {spell} \\n\"\n",
        "      getattr(self, '_' + spell.lower().replace(' ', '_'))()\n",
        "      self._check_for_winner()\n",
        "\n",
        "      if self.winner is None:\n",
        "        self.log += \"\\n-- Boss turn --\\n\"\n",
        "        self.log += \"- Player stats: \" + str(self.p_stats) + \"\\n\"\n",
        "        self.log += f\"- Boss has {self.b_stats['Hit Points']} hit points\\n\"\n",
        "        \n",
        "        self._apply_effects()\n",
        "        self._check_for_winner()\n",
        "\n",
        "        if self.winner is None:\n",
        "          self._take_boss_turn()\n",
        "          self._check_for_winner()\n",
        "\n",
        "          if self.winner is None:\n",
        "            self.log += \"\\n-- Player turn --\\n\"\n",
        "            self.log += \"- Player stats: \" + str(self.p_stats) + \"\\n\"\n",
        "            self.log += f\"- Boss has {self.b_stats['Hit Points']} hit points\\n\"\n",
        "\n",
        "            self._apply_effects()\n",
        "            self._check_for_winner()\n",
        "\n",
        "  def _check_for_winner(self):\n",
        "    if self.winner is None:\n",
        "      if self.p_stats['Hit Points'] <= 0:\n",
        "        self.winner = 'Boss'\n",
        "        self.log += 'Boss wins! :(\\n'\n",
        "      elif self.b_stats['Hit Points'] <= 0:\n",
        "        self.winner = 'Player'\n",
        "        self.log += 'Player wins!\\n'\n",
        "\n",
        "  def show_game(self):\n",
        "    if self.winner is not None:\n",
        "      print('Winner:', self.winner)\n",
        "    print(' === ')\n",
        "    print('Player: ', self.p_stats)\n",
        "    print('Boss: ', self.b_stats)\n",
        "    print(f'Posion: {self.p} Recharge: {self.r} Shield: {self.s}')\n",
        "    print('Total Mana Spent: ', self.total_mana_spent)\n",
        "    print(' === ')\n",
        "\n",
        "  def _take_boss_turn(self):\n",
        "    damage = max(1, self.b_stats['Damage']-self.p_stats['Armor'])\n",
        "    self.p_stats['Hit Points'] -= damage\n",
        "    self.log += f'Boss attacks for {damage} damage! \\n'\n",
        "\n",
        "  def _apply_effects(self):\n",
        "    if self.s == 0:\n",
        "      self.p_stats['Armor'] = 0\n",
        "    if self.s > 0:\n",
        "      self.p_stats['Armor'] = 8\n",
        "      self.s -= 1\n",
        "      self.log += f\"Shield's timer is now {self.s}.\\n\"\n",
        "    if self.p > 0:\n",
        "      self.b_stats['Hit Points'] -= 3\n",
        "      self.p -= 1\n",
        "      self.log += f\"Poison deals 3 damage; its timer is now {self.p}.\\n\"\n",
        "    if self.r > 0:\n",
        "      self.p_stats['Mana'] += 101\n",
        "      self.r -= 1\n",
        "      self.log += f\"Recharge provides 101 mana; its timer is now {self.r}.\\n\"\n",
        "\n",
        "  def _try_spend_mana(self, amount):\n",
        "    if amount > self.p_stats['Mana']:\n",
        "      self.winner = \"Boss\"\n",
        "      self.log += 'failed spell!! >:/\\n'\n",
        "      return False\n",
        "    else:\n",
        "      self.total_mana_spent += amount\n",
        "      self.p_stats['Mana'] -= amount\n",
        "      return True\n",
        "\n",
        "  def _drain(self):\n",
        "    if self._try_spend_mana(73):\n",
        "      self.p_stats['Hit Points'] += 2\n",
        "      self.b_stats['Hit Points'] -= 2\n",
        "\n",
        "  def _magic_missile(self):\n",
        "    if self._try_spend_mana(53):\n",
        "      self.b_stats['Hit Points'] -= 4\n",
        "  \n",
        "  def _poison(self):\n",
        "    if self.p > 0:\n",
        "      self.winner = 'Boss'\n",
        "      self.log += \"Can't cast twice, bro. \\n\"\n",
        "    if self._try_spend_mana(173):\n",
        "      self.p = 6\n",
        "\n",
        "  def _recharge(self):\n",
        "    if self.r > 0:\n",
        "      self.winner = 'Boss'\n",
        "      self.log += \"Can't cast twice, bro. \\n\"\n",
        "    if self._try_spend_mana(229):\n",
        "      self.r = 5\n",
        "\n",
        "  def _shield(self):\n",
        "    if self.s > 0:\n",
        "      self.winner = 'Boss'\n",
        "      self.log += \"Can't cast twice, bro. \\n\"\n",
        "    if self._try_spend_mana(113):\n",
        "      self.s = 6"
      ],
      "execution_count": null,
      "outputs": []
    },
    {
      "cell_type": "code",
      "metadata": {
        "colab": {
          "base_uri": "https://localhost:8080/"
        },
        "id": "YnIIZx73NBSu",
        "outputId": "0ed81309-5678-4727-c234-5d526705df13"
      },
      "source": [
        "game = GameState(test_player_stats, test_boss_stats)\n",
        "\n",
        "for spell in ('Poison', 'Magic Missile'):\n",
        "  game.cast_spell(spell)\n",
        "\n",
        "print(game.log)"
      ],
      "execution_count": null,
      "outputs": [
        {
          "output_type": "stream",
          "text": [
            "\n",
            "-- Player turn --\n",
            "- Player stats: {'Hit Points': 10, 'Mana': 250, 'Armor': 0}\n",
            "- Boss has 13 hit points\n",
            "Player casts Poison \n",
            "\n",
            "-- Boss turn --\n",
            "- Player stats: {'Hit Points': 10, 'Mana': 77, 'Armor': 0}\n",
            "- Boss has 13 hit points\n",
            "Poison deals 3 damage; its timer is now 5.\n",
            "Boss attacks for 8 damage! \n",
            "\n",
            "-- Player turn --\n",
            "- Player stats: {'Hit Points': 2, 'Mana': 77, 'Armor': 0}\n",
            "- Boss has 10 hit points\n",
            "Poison deals 3 damage; its timer is now 4.\n",
            "Player casts Magic Missile \n",
            "\n",
            "-- Boss turn --\n",
            "- Player stats: {'Hit Points': 2, 'Mana': 24, 'Armor': 0}\n",
            "- Boss has 3 hit points\n",
            "Poison deals 3 damage; its timer is now 3.\n",
            "Player wins!\n",
            "\n"
          ],
          "name": "stdout"
        }
      ]
    },
    {
      "cell_type": "code",
      "metadata": {
        "colab": {
          "base_uri": "https://localhost:8080/"
        },
        "id": "jmKf3SsfQgVi",
        "outputId": "9fbbe73b-235d-4e92-8e39-bfded26b2625"
      },
      "source": [
        "import numpy as np\n",
        "\n",
        "def minimum_mana_h(game, early_stop=np.inf):\n",
        "  game.log\n",
        "  if game.winner == 'Boss':\n",
        "    return np.inf\n",
        "  elif game.winner == 'Player':\n",
        "    return game.total_mana_spent\n",
        "  best_mana_so_far = early_stop\n",
        "  for spell in ('Magic Missile', 'Poison', 'Shield', 'Drain', 'Recharge'):\n",
        "    new_game = copy.deepcopy(game)\n",
        "    new_game.cast_spell(spell)\n",
        "    if new_game.total_mana_spent > best_mana_so_far:\n",
        "      continue\n",
        "    m = minimum_mana_h(new_game, early_stop=best_mana_so_far)\n",
        "    if m < best_mana_so_far:\n",
        "      best_mana_so_far = m\n",
        "  return best_mana_so_far\n",
        "\n",
        "def minimum_mana(player_stats, boss_stats):\n",
        "  game = GameState(player_stats, boss_stats)\n",
        "  return minimum_mana_h(game)\n",
        "\n",
        "minimum_mana(player_stats, boss_stats)"
      ],
      "execution_count": null,
      "outputs": [
        {
          "output_type": "execute_result",
          "data": {
            "text/plain": [
              "953"
            ]
          },
          "metadata": {
            "tags": []
          },
          "execution_count": 114
        }
      ]
    },
    {
      "cell_type": "markdown",
      "metadata": {
        "id": "GjT3eYQuv_8K"
      },
      "source": [
        "https://adventofcode.com/2015/day/22#part2"
      ]
    },
    {
      "cell_type": "code",
      "metadata": {
        "id": "G4ZskyQDldMk"
      },
      "source": [
        "import copy\n",
        "\n",
        "class GameStateHard(GameState):\n",
        "\n",
        "  def __init__(self, p_stats, b_stats):\n",
        "    super().__init__(p_stats, b_stats)\n",
        "    self.log += 'Player lost a point because HARD'\n",
        "    self.p_stats['Hit Points'] -= 1\n",
        "\n",
        "  def cast_spell(self, spell):\n",
        "    if self.winner is None:\n",
        "      self.log += f\"Player casts {spell} \\n\"\n",
        "      getattr(self, '_' + spell.lower().replace(' ', '_'))()\n",
        "      self._check_for_winner()\n",
        "\n",
        "      if self.winner is None:\n",
        "        self.log += \"\\n-- Boss turn --\\n\"\n",
        "        self.log += \"- Player stats: \" + str(self.p_stats) + \"\\n\"\n",
        "        self.log += f\"- Boss has {self.b_stats['Hit Points']} hit points\\n\"\n",
        "        \n",
        "        self._apply_effects()\n",
        "        self._check_for_winner()\n",
        "\n",
        "        if self.winner is None:\n",
        "          self._take_boss_turn()\n",
        "          self._check_for_winner()\n",
        "\n",
        "          if self.winner is None:\n",
        "            self.log += \"\\n-- Player turn --\\n\"\n",
        "            self.log += \"- Player stats: \" + str(self.p_stats) + \"\\n\"\n",
        "            self.log += 'Player lost a point because HARD'\n",
        "            self.p_stats['Hit Points'] -= 1\n",
        "            self._check_for_winner()\n",
        "            if self.winner is None:\n",
        "              self.log += f\"- Boss has {self.b_stats['Hit Points']} hit points\\n\"\n",
        "              self._apply_effects()\n",
        "              self._check_for_winner()"
      ],
      "execution_count": null,
      "outputs": []
    },
    {
      "cell_type": "code",
      "metadata": {
        "colab": {
          "base_uri": "https://localhost:8080/"
        },
        "id": "aNIBpinUwuUs",
        "outputId": "6e26dbca-bea7-425e-b035-c1a282b35079"
      },
      "source": [
        "import numpy as np\n",
        "\n",
        "def minimum_mana_h(game, early_stop=np.inf):\n",
        "  game.log\n",
        "  if game.winner == 'Boss':\n",
        "    return np.inf\n",
        "  elif game.winner == 'Player':\n",
        "    return game.total_mana_spent\n",
        "  best_mana_so_far = early_stop\n",
        "  for spell in ('Magic Missile', 'Poison', 'Shield', 'Drain', 'Recharge'):\n",
        "    new_game = copy.deepcopy(game)\n",
        "    new_game.cast_spell(spell)\n",
        "    if new_game.total_mana_spent > best_mana_so_far:\n",
        "      continue\n",
        "    m = minimum_mana_h(new_game, early_stop=best_mana_so_far)\n",
        "    if m < best_mana_so_far:\n",
        "      best_mana_so_far = m\n",
        "  return best_mana_so_far\n",
        "\n",
        "def minimum_mana_hard(player_stats, boss_stats):\n",
        "  game = GameStateHard(player_stats, boss_stats)\n",
        "  return minimum_mana_h(game)\n",
        "\n",
        "minimum_mana_hard(player_stats, boss_stats)"
      ],
      "execution_count": null,
      "outputs": [
        {
          "output_type": "execute_result",
          "data": {
            "text/plain": [
              "1289"
            ]
          },
          "metadata": {
            "tags": []
          },
          "execution_count": 120
        }
      ]
    }
  ]
}