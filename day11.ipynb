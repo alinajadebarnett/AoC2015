{
  "nbformat": 4,
  "nbformat_minor": 0,
  "metadata": {
    "colab": {
      "name": "day11.ipynb",
      "provenance": [],
      "collapsed_sections": []
    },
    "kernelspec": {
      "name": "python3",
      "display_name": "Python 3"
    }
  },
  "cells": [
    {
      "cell_type": "markdown",
      "metadata": {
        "id": "KBm1fXlN0IlJ"
      },
      "source": [
        "https://adventofcode.com/2015/day/11"
      ]
    },
    {
      "cell_type": "code",
      "metadata": {
        "colab": {
          "base_uri": "https://localhost:8080/"
        },
        "id": "K6NONnMq1CIw",
        "outputId": "f08189e1-2e0e-4da0-f2dc-5463832cb51e"
      },
      "source": [
        "from itertools import *\n",
        "from string import ascii_lowercase\n",
        "\n",
        "def triplewise(iterable):\n",
        "    \"s -> (s0,s1), (s1,s2), (s2, s3), ...\"\n",
        "    a, b = tee(iterable)\n",
        "    b, c = tee(iterable)\n",
        "    next(b, None)\n",
        "    next(c, None)\n",
        "    next(c, None)\n",
        "    return (''.join(x) for x in zip(a, b, c))\n",
        "\n",
        "\n",
        "def string_of_three(pw):\n",
        "  triples = triplewise(ascii_lowercase)\n",
        "  if any([trip in pw for trip in triples]):\n",
        "    return True\n",
        "  return False\n",
        "\n",
        "print(string_of_three('the'))\n",
        "print(string_of_three('cdeffthvds'))\n",
        "print(string_of_three('cdf'))"
      ],
      "execution_count": 2,
      "outputs": [
        {
          "output_type": "stream",
          "text": [
            "False\n",
            "True\n",
            "False\n"
          ],
          "name": "stdout"
        }
      ]
    },
    {
      "cell_type": "code",
      "metadata": {
        "colab": {
          "base_uri": "https://localhost:8080/"
        },
        "id": "tKXC-6AO1GRO",
        "outputId": "a9b773bd-f365-4b4c-9abf-33035fd348e7"
      },
      "source": [
        "def confusing_characters(pw):\n",
        "  if any([x in pw for x in ('o', 'i', 'l')]):\n",
        "    return False\n",
        "  return True\n",
        "\n",
        "print(confusing_characters('lambda'))\n",
        "print(confusing_characters('hjghja'))"
      ],
      "execution_count": 3,
      "outputs": [
        {
          "output_type": "stream",
          "text": [
            "False\n",
            "True\n"
          ],
          "name": "stdout"
        }
      ]
    },
    {
      "cell_type": "code",
      "metadata": {
        "colab": {
          "base_uri": "https://localhost:8080/"
        },
        "id": "vG3A7yuo1QQ9",
        "outputId": "dc48f5b8-980b-499f-fce9-8fae7c916b45"
      },
      "source": [
        "import re\n",
        "\n",
        "repeat_re = re.compile(r'.*(?P<first>[a-z])(?P=first).*(?P<second>[a-z])(?P=second).*')\n",
        "\n",
        "def two_pairs(pw):\n",
        "  mo = repeat_re.fullmatch(pw)\n",
        "  if mo is None:\n",
        "    return False\n",
        "  return True\n",
        "\n",
        "print(two_pairs('the'))\n",
        "print(two_pairs('cccefthvds'))\n",
        "print(two_pairs('cdffthnn'))"
      ],
      "execution_count": 4,
      "outputs": [
        {
          "output_type": "stream",
          "text": [
            "False\n",
            "False\n",
            "True\n"
          ],
          "name": "stdout"
        }
      ]
    },
    {
      "cell_type": "code",
      "metadata": {
        "id": "NWsyeYtZ0FYP"
      },
      "source": [
        "def valid(pw):\n",
        "  return string_of_three(pw) and confusing_characters(pw) and two_pairs(pw)"
      ],
      "execution_count": 5,
      "outputs": []
    },
    {
      "cell_type": "code",
      "metadata": {
        "id": "Zk4msLAp0cAm"
      },
      "source": [
        "# from itertools import *\n",
        "# from string import ascii_lowercase\n",
        "\n",
        "# def inc(starting_string):\n",
        "#   return (''.join(x) for x in product([dropwhile(lambda oc: oc < c, ascii_lowercase) for c in starting_string]))\n",
        "\n",
        "# next(inc('aaaaaamn'))"
      ],
      "execution_count": 6,
      "outputs": []
    },
    {
      "cell_type": "code",
      "metadata": {
        "colab": {
          "base_uri": "https://localhost:8080/"
        },
        "id": "8AYn9_LI8WvZ",
        "outputId": "58bdfdf5-5840-485d-eb88-e1ded3e18664"
      },
      "source": [
        "def incr(pw):\n",
        "  newpw = pw\n",
        "  if pw == '':\n",
        "    return ''\n",
        "  if pw[-1] < 'z' and pw[-1] >= 'a':\n",
        "    newpw = newpw[:-1] + chr(ord(pw[-1]) + 1)\n",
        "  elif pw[-1] == 'z':\n",
        "    newpw = incr(newpw[:-1]) + 'a'\n",
        "  return newpw\n",
        "\n",
        "pw = 'zzt'\n",
        "\n",
        "for i in range(10):\n",
        "  pw = incr(pw)\n",
        "  print(pw)"
      ],
      "execution_count": 7,
      "outputs": [
        {
          "output_type": "stream",
          "text": [
            "zzu\n",
            "zzv\n",
            "zzw\n",
            "zzx\n",
            "zzy\n",
            "zzz\n",
            "aaa\n",
            "aab\n",
            "aac\n",
            "aad\n"
          ],
          "name": "stdout"
        }
      ]
    },
    {
      "cell_type": "code",
      "metadata": {
        "colab": {
          "base_uri": "https://localhost:8080/"
        },
        "id": "5Vk3cNaO-aCk",
        "outputId": "b561545f-d0c4-4602-e51c-bd6510d70c8e"
      },
      "source": [
        "print(valid(\"hijklmmn\"))\n",
        "print(valid(\"abbceffg\"))\n",
        "print(valid(\"abbcegjk\"))\n",
        "print(valid(\"abcdffaa\"))\n",
        "print(valid(\"ghjaabcc\"))"
      ],
      "execution_count": 8,
      "outputs": [
        {
          "output_type": "stream",
          "text": [
            "False\n",
            "False\n",
            "False\n",
            "True\n",
            "True\n"
          ],
          "name": "stdout"
        }
      ]
    },
    {
      "cell_type": "code",
      "metadata": {
        "id": "ur9WtfEf-zjw"
      },
      "source": [
        "def next_pw(pw):\n",
        "  pw = incr(pw)\n",
        "  while valid(pw) == False:\n",
        "    pw = incr(pw)\n",
        "  return pw"
      ],
      "execution_count": 9,
      "outputs": []
    },
    {
      "cell_type": "code",
      "metadata": {
        "colab": {
          "base_uri": "https://localhost:8080/"
        },
        "id": "KL1EjQrL_Fic",
        "outputId": "57d95931-77aa-4c42-d350-fd9e8b2e58ae"
      },
      "source": [
        "print(next_pw('abcdefgh'))\n",
        "print(next_pw('ghijklmn'))"
      ],
      "execution_count": 10,
      "outputs": [
        {
          "output_type": "stream",
          "text": [
            "abcdffaa\n",
            "ghjaabcc\n"
          ],
          "name": "stdout"
        }
      ]
    },
    {
      "cell_type": "code",
      "metadata": {
        "colab": {
          "base_uri": "https://localhost:8080/"
        },
        "id": "fQwHNadO_URG",
        "outputId": "bac41828-12be-479e-92fd-42be01e12f71"
      },
      "source": [
        "print(next_pw('vzbxkghb'))"
      ],
      "execution_count": 11,
      "outputs": [
        {
          "output_type": "stream",
          "text": [
            "vzbxxyzz\n"
          ],
          "name": "stdout"
        }
      ]
    },
    {
      "cell_type": "code",
      "metadata": {
        "colab": {
          "base_uri": "https://localhost:8080/"
        },
        "id": "GXP057-S_uhf",
        "outputId": "6e45d3a2-23e7-46c9-cffe-c1fe2bb8989e"
      },
      "source": [
        "print(next_pw(next_pw('vzbxkghb')))"
      ],
      "execution_count": 12,
      "outputs": [
        {
          "output_type": "stream",
          "text": [
            "vzcaabcc\n"
          ],
          "name": "stdout"
        }
      ]
    }
  ]
}