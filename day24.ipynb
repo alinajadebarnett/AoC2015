{
  "nbformat": 4,
  "nbformat_minor": 0,
  "metadata": {
    "colab": {
      "name": "day24.ipynb",
      "provenance": [],
      "collapsed_sections": []
    },
    "kernelspec": {
      "name": "python3",
      "display_name": "Python 3"
    }
  },
  "cells": [
    {
      "cell_type": "markdown",
      "metadata": {
        "id": "CPkdMy8fnBDY"
      },
      "source": [
        "https://adventofcode.com/2015/day/24"
      ]
    },
    {
      "cell_type": "code",
      "metadata": {
        "id": "SKMKHgXI7Ive"
      },
      "source": [
        "input = r'''1\r\n",
        "2\r\n",
        "3\r\n",
        "7\r\n",
        "11\r\n",
        "13\r\n",
        "17\r\n",
        "19\r\n",
        "23\r\n",
        "31\r\n",
        "37\r\n",
        "41\r\n",
        "43\r\n",
        "47\r\n",
        "53\r\n",
        "59\r\n",
        "61\r\n",
        "67\r\n",
        "71\r\n",
        "73\r\n",
        "79\r\n",
        "83\r\n",
        "89\r\n",
        "97\r\n",
        "101\r\n",
        "103\r\n",
        "107\r\n",
        "109\r\n",
        "113'''"
      ],
      "execution_count": 1,
      "outputs": []
    },
    {
      "cell_type": "code",
      "metadata": {
        "id": "GTAk1zpnZzJq"
      },
      "source": [
        "test_input = r'''1\r\n",
        "2\r\n",
        "3\r\n",
        "4\r\n",
        "5\r\n",
        "7\r\n",
        "8\r\n",
        "9\r\n",
        "10\r\n",
        "11'''"
      ],
      "execution_count": 2,
      "outputs": []
    },
    {
      "cell_type": "code",
      "metadata": {
        "id": "Ssq2I6LV7QsQ"
      },
      "source": [
        "from itertools import *\n",
        "from more_itertools import *\n",
        "import numpy as np"
      ],
      "execution_count": 3,
      "outputs": []
    },
    {
      "cell_type": "code",
      "metadata": {
        "colab": {
          "base_uri": "https://localhost:8080/"
        },
        "id": "IJv62w84iIvo",
        "outputId": "a9ef0235-2b4d-4968-8e08-288fe7c85953"
      },
      "source": [
        "def gen_best_legroom(weights, target_weight):\r\n",
        "  for n in count():\r\n",
        "    flag = False\r\n",
        "    for center in combinations(weights, n):\r\n",
        "      if sum(center) == target_weight:\r\n",
        "        yield center\r\n",
        "        flag = True\r\n",
        "    if flag:\r\n",
        "      return\r\n",
        "\r\n",
        "def gen_valid_centers(weights, target_weight):\r\n",
        "  for center in gen_best_legroom(weights, target_weight):\r\n",
        "    for arr1, arr2 in set_partitions(set(weights)-set(center), 2):\r\n",
        "      if sum(arr1) == target_weight:\r\n",
        "        yield center\r\n",
        "        break\r\n",
        "\r\n",
        "def best_qe(weights, target_weight):\r\n",
        "  best_qe = np.inf\r\n",
        "  for center in gen_valid_centers(weights, target_weight):\r\n",
        "    best_qe = min(np.prod(center), best_qe)\r\n",
        "  return best_qe\r\n",
        "\r\n",
        "weights = [int(line) for line in input.split('\\n')]\r\n",
        "total_weight = sum(weights)\r\n",
        "target_weight = total_weight // 3\r\n",
        "assert target_weight * 3 == total_weight\r\n",
        "best_qe(weights, target_weight)"
      ],
      "execution_count": 4,
      "outputs": [
        {
          "output_type": "execute_result",
          "data": {
            "text/plain": [
              "11846773891"
            ]
          },
          "metadata": {
            "tags": []
          },
          "execution_count": 4
        }
      ]
    },
    {
      "cell_type": "code",
      "metadata": {
        "colab": {
          "base_uri": "https://localhost:8080/"
        },
        "id": "FGONDfemlHKL",
        "outputId": "4d1bb13b-4153-46f5-9b89-631a9121f688"
      },
      "source": [
        "weights = [int(line) for line in test_input.split('\\n')]\r\n",
        "total_weight = sum(weights)\r\n",
        "target_weight = total_weight // 3\r\n",
        "assert target_weight * 3 == total_weight\r\n",
        "best_qe(weights, target_weight)"
      ],
      "execution_count": 5,
      "outputs": [
        {
          "output_type": "execute_result",
          "data": {
            "text/plain": [
              "99"
            ]
          },
          "metadata": {
            "tags": []
          },
          "execution_count": 5
        }
      ]
    },
    {
      "cell_type": "markdown",
      "metadata": {
        "id": "C7q-5hvUlhEg"
      },
      "source": [
        "https://adventofcode.com/2015/day/24#part2"
      ]
    },
    {
      "cell_type": "code",
      "metadata": {
        "colab": {
          "base_uri": "https://localhost:8080/"
        },
        "id": "AvZk2LhYlh8a",
        "outputId": "2a418d72-b186-466f-d923-d896810c3b85"
      },
      "source": [
        "def gen_best_legroom(weights, target_weight):\r\n",
        "  for n in count():\r\n",
        "    flag = False\r\n",
        "    for center in combinations(weights, n):\r\n",
        "      if sum(center) == target_weight:\r\n",
        "        yield center\r\n",
        "        flag = True\r\n",
        "    if flag:\r\n",
        "      return\r\n",
        "\r\n",
        "def gen_valid_centers(weights, target_weight):\r\n",
        "  for center in gen_best_legroom(weights, target_weight):\r\n",
        "    flag = False\r\n",
        "    for arr1, arr23 in set_partitions(set(weights)-set(center), 2):\r\n",
        "      if sum(arr1) == target_weight:\r\n",
        "        for arr2, arr3 in set_partitions(arr23, 2):\r\n",
        "          if sum(arr2) == target_weight:\r\n",
        "            yield center\r\n",
        "            flag=True\r\n",
        "            break\r\n",
        "      if flag:\r\n",
        "        break\r\n",
        "\r\n",
        "def best_qe(weights, target_weight):\r\n",
        "  best_qe = np.inf\r\n",
        "  for center in gen_valid_centers(weights, target_weight):\r\n",
        "    best_qe = min(np.prod(center), best_qe)\r\n",
        "  return best_qe\r\n",
        "\r\n",
        "weights = [int(line) for line in input.split('\\n')]\r\n",
        "total_weight = sum(weights)\r\n",
        "target_weight = total_weight // 4\r\n",
        "assert target_weight * 4 == total_weight\r\n",
        "best_qe(weights, target_weight)"
      ],
      "execution_count": 6,
      "outputs": [
        {
          "output_type": "execute_result",
          "data": {
            "text/plain": [
              "80393059"
            ]
          },
          "metadata": {
            "tags": []
          },
          "execution_count": 6
        }
      ]
    },
    {
      "cell_type": "code",
      "metadata": {
        "id": "ixJTWQht7fVV"
      },
      "source": [
        "# Don't do it this way, friends.\n",
        "\n",
        "def assign(weights, target_weight, center=[], left=[], right=[], best_len_center=np.inf, best_qe=np.inf, debug=False):\n",
        "  if any(sum(group) > target_weight for group in (center, left, right)):\n",
        "    return None\n",
        "  if len(center) > best_len_center:\n",
        "    if debug:\n",
        "      print('bailed early due to suboptimal leg room')\n",
        "    return None\n",
        "  if len(center) == best_len_center:\n",
        "    if np.prod(center) > best_qe:\n",
        "      if debug:\n",
        "        print('bailed early due to suboptimal quantum entanglement')\n",
        "      return None\n",
        "    if sum(center) < target_weight:\n",
        "      if debug:\n",
        "        print('bailed early due to suboptimal legroom (type 2)')\n",
        "      return None\n",
        "  if not weights: # weights is empty\n",
        "    return center, left, right, len(center), np.prod(center)\n",
        "  one_weight, other_weights = weights[0], weights[1:]\n",
        "\n",
        "  res1 = assign(other_weights, target_weight, center=[one_weight]+center, left=left, right=right, best_len_center=best_len_center, best_qe=best_qe)\n",
        "  if res1 is not None:\n",
        "    c1, l1, r1, lc1, pc1 = res1\n",
        "    if lc1 < best_len_center:\n",
        "      best_len_center = lc1\n",
        "      best_qe = pc1\n",
        "    elif lc1 == best_len_center:\n",
        "      if pc1 < best_qe:\n",
        "        best_qe = pc1 \n",
        "  res2 = assign(other_weights, target_weight, center=center, left=[one_weight]+left, right=right, best_len_center=best_len_center, best_qe=best_qe)\n",
        "  if res2 is not None:\n",
        "    c2, l2, r2, lc2, pc2 = res2\n",
        "    if lc2 < best_len_center:\n",
        "      best_len_center = lc2\n",
        "      best_qe = pc2\n",
        "    elif lc2 == best_len_center:\n",
        "      if pc2 < best_qe:\n",
        "        best_qe = pc2\n",
        "  res3 = assign(other_weights, target_weight, center=center, left=left, right=[one_weight]+right, best_len_center=best_len_center, best_qe=best_qe)\n",
        "  if res3 is not None:\n",
        "    c3, l3, r3, lc3, pc3 = res3\n",
        "    if lc3 < best_len_center:\n",
        "      best_len_center = lc3\n",
        "      best_qe = pc3\n",
        "    elif lc3 == best_len_center:\n",
        "      if pc3 < best_qe:\n",
        "        best_qe = pc3\n",
        "  \n",
        "  sub_results = [res1, res2, res3]\n",
        "  sub_results = [x for x in sub_results if x is not None]\n",
        "\n",
        "  if not sub_results:\n",
        "    return None\n",
        "  minimal_len_center = min(x[3] for x in sub_results)\n",
        "  sub_results = [x for x in sub_results if x[3] == minimal_len_center]\n",
        "  if not sub_results:\n",
        "    return None\n",
        "  minimal_prod_center = min(x[4] for x in sub_results)\n",
        "  sub_results = [x for x in sub_results if x[4] == minimal_prod_center]\n",
        "  if not sub_results:\n",
        "    return None\n",
        "  \n",
        "  print('current best', sub_results[0][3], sub_results[0][4])\n",
        "  return sub_results[0]\n",
        "\n",
        "def main(input):\n",
        "  weights = [int(line) for line in input.split('\\n')]\n",
        "  total_weight = sum(weights)\n",
        "  target_weight = total_weight // 3\n",
        "  assert target_weight * 3 == total_weight\n",
        "  weights = weights[::-1]\n",
        "\n",
        "  center, left, right, lc, pc = assign(weights, target_weight)\n",
        "  return pc"
      ],
      "execution_count": 7,
      "outputs": []
    },
    {
      "cell_type": "code",
      "metadata": {
        "id": "HPjAV-9CIRzR"
      },
      "source": [
        "main(input)"
      ],
      "execution_count": null,
      "outputs": []
    }
  ]
}