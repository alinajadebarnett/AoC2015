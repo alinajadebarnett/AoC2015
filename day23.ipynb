{
  "nbformat": 4,
  "nbformat_minor": 0,
  "metadata": {
    "colab": {
      "name": "day23.ipynb",
      "provenance": [],
      "collapsed_sections": []
    },
    "kernelspec": {
      "name": "python3",
      "display_name": "Python 3"
    }
  },
  "cells": [
    {
      "cell_type": "markdown",
      "metadata": {
        "id": "L8L2T9woyBHo"
      },
      "source": [
        "https://adventofcode.com/2015/day/23"
      ]
    },
    {
      "cell_type": "code",
      "metadata": {
        "id": "YPwYVtuwx95Q"
      },
      "source": [
        "input = r'''jio a, +16\n",
        "inc a\n",
        "inc a\n",
        "tpl a\n",
        "tpl a\n",
        "tpl a\n",
        "inc a\n",
        "inc a\n",
        "tpl a\n",
        "inc a\n",
        "inc a\n",
        "tpl a\n",
        "tpl a\n",
        "tpl a\n",
        "inc a\n",
        "jmp +23\n",
        "tpl a\n",
        "inc a\n",
        "inc a\n",
        "tpl a\n",
        "inc a\n",
        "inc a\n",
        "tpl a\n",
        "tpl a\n",
        "inc a\n",
        "inc a\n",
        "tpl a\n",
        "inc a\n",
        "tpl a\n",
        "inc a\n",
        "tpl a\n",
        "inc a\n",
        "inc a\n",
        "tpl a\n",
        "inc a\n",
        "tpl a\n",
        "tpl a\n",
        "inc a\n",
        "jio a, +8\n",
        "inc b\n",
        "jie a, +4\n",
        "tpl a\n",
        "inc a\n",
        "jmp +2\n",
        "hlf a\n",
        "jmp -7'''"
      ],
      "execution_count": null,
      "outputs": []
    },
    {
      "cell_type": "code",
      "metadata": {
        "id": "2AkkhzsFypsI"
      },
      "source": [
        "machine_state = {'a': 0, 'b': 0, 'pc': 0} #part 1\n",
        "machine_state = {'a': 1, 'b': 0, 'pc': 0} #part 2"
      ],
      "execution_count": null,
      "outputs": []
    },
    {
      "cell_type": "code",
      "metadata": {
        "id": "m7zaQhhiyx4j"
      },
      "source": [
        "program = list(input.split('\\n'))"
      ],
      "execution_count": null,
      "outputs": []
    },
    {
      "cell_type": "markdown",
      "metadata": {
        "id": "-UNPNoh6zOwa"
      },
      "source": [
        "hlf r sets register r to half its current value, then continues with the next instruction.\n",
        "\n",
        "tpl r sets register r to triple its current value, then continues with the next instruction.\n",
        "\n",
        "inc r increments register r, adding 1 to it, then continues with the next instruction.\n",
        "\n",
        "jmp offset is a jump; it continues with the instruction offset away relative to itself.\n",
        "\n",
        "jie r, offset is like jmp, but only jumps if register r is even (\"jump if even\").\n",
        "\n",
        "jio r, offset is like jmp, but only jumps if register r is 1 (\"jump if one\", not odd)."
      ]
    },
    {
      "cell_type": "code",
      "metadata": {
        "id": "PBSzenN8zlR-"
      },
      "source": [
        "def step(program, machine_state, verbose=False):\n",
        "  instr = program[machine_state['pc']]\n",
        "  if instr[:3] == 'hlf':\n",
        "    machine_state[instr[-1]] /= 2\n",
        "    machine_state['pc'] += 1\n",
        "  elif instr[:3] == 'tpl':\n",
        "    machine_state[instr[-1]] *= 3\n",
        "    machine_state['pc'] += 1\n",
        "  elif instr[:3] == 'inc':\n",
        "    machine_state[instr[-1]] += 1\n",
        "    machine_state['pc'] += 1\n",
        "  elif instr[:3] == 'jmp':\n",
        "    machine_state['pc'] += int(instr[4:])\n",
        "  elif instr[:3] == 'jie':\n",
        "    if machine_state[instr[4]] % 2 == 0: \n",
        "      machine_state['pc'] += int(instr[6:])\n",
        "    else:\n",
        "      machine_state['pc'] += 1\n",
        "  elif instr[:3] == 'jio':\n",
        "    if machine_state[instr[4]] == 1: \n",
        "      machine_state['pc'] += int(instr[6:])\n",
        "    else:\n",
        "      machine_state['pc'] += 1\n",
        "  if verbose:\n",
        "    print(instr)\n",
        "    print(machine_state)"
      ],
      "execution_count": null,
      "outputs": []
    },
    {
      "cell_type": "code",
      "metadata": {
        "colab": {
          "base_uri": "https://localhost:8080/"
        },
        "id": "o1ZgM5BczFcz",
        "outputId": "c3ca0929-7aea-484d-b34a-11653bfaf192"
      },
      "source": [
        "while len(program)>machine_state['pc']>=0:\n",
        "  step(program, machine_state)\n",
        "\n",
        "machine_state['b']"
      ],
      "execution_count": null,
      "outputs": [
        {
          "output_type": "execute_result",
          "data": {
            "text/plain": [
              "247"
            ]
          },
          "metadata": {
            "tags": []
          },
          "execution_count": 44
        }
      ]
    },
    {
      "cell_type": "code",
      "metadata": {
        "colab": {
          "base_uri": "https://localhost:8080/"
        },
        "id": "zJ8zSHKr2LMo",
        "outputId": "35f19039-9263-40bb-d928-f50017d12d20"
      },
      "source": [
        "test_input = r'''inc a\n",
        "jio a, +2\n",
        "tpl a\n",
        "inc a'''\n",
        "\n",
        "machine_state = {'a': 0, 'b': 0, 'pc': 0}\n",
        "\n",
        "program = list(test_input.split('\\n'))\n",
        "\n",
        "while len(program)>machine_state['pc']>=0:\n",
        "  step(program, machine_state)\n",
        "\n",
        "machine_state"
      ],
      "execution_count": null,
      "outputs": [
        {
          "output_type": "execute_result",
          "data": {
            "text/plain": [
              "{'a': 2, 'b': 0, 'pc': 4}"
            ]
          },
          "metadata": {
            "tags": []
          },
          "execution_count": 45
        }
      ]
    }
  ]
}